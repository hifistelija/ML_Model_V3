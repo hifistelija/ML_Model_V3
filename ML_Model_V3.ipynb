{
  "cells": [
    {
      "cell_type": "markdown",
      "metadata": {
        "id": "view-in-github",
        "colab_type": "text"
      },
      "source": [
        "<a href=\"https://colab.research.google.com/github/hifistelija/Random_Fores_V3/blob/main/ML_Model_V3.ipynb\" target=\"_parent\"><img src=\"https://colab.research.google.com/assets/colab-badge.svg\" alt=\"Open In Colab\"/></a>"
      ]
    },
    {
      "cell_type": "markdown",
      "source": [
        "# Imports"
      ],
      "metadata": {
        "id": "LLmBuaGqs_5_"
      }
    },
    {
      "cell_type": "code",
      "execution_count": null,
      "metadata": {
        "id": "llGCg1gKnMwH"
      },
      "outputs": [],
      "source": [
        "import numpy as np\n",
        "import pandas as pd\n",
        "import matplotlib.pyplot as plt\n",
        "import seaborn as sns"
      ]
    },
    {
      "cell_type": "markdown",
      "source": [
        "# Data Preparation"
      ],
      "metadata": {
        "id": "aW9uQOwuu5xK"
      }
    },
    {
      "cell_type": "code",
      "execution_count": null,
      "metadata": {
        "id": "wjevyN25nUzT"
      },
      "outputs": [],
      "source": [
        "df = pd.read_excel(\"ML_Määrät.xlsx\")"
      ]
    },
    {
      "cell_type": "code",
      "execution_count": null,
      "metadata": {
        "id": "oA_G8317nU2A",
        "colab": {
          "base_uri": "https://localhost:8080/",
          "height": 206
        },
        "outputId": "e1976a93-6f4b-487c-ce57-c2d93ff6e594"
      },
      "outputs": [
        {
          "output_type": "execute_result",
          "data": {
            "text/plain": [
              "  Kirjauspvm.  Linjakoodi  Päivän nimi  Varaukset Nimikkeen nro  \\\n",
              "0  2023-07-12         274  Keskiviikko      263.0        R02038   \n",
              "1  2023-07-12         274  Keskiviikko      263.0        R00481   \n",
              "2  2023-07-12         274  Keskiviikko      263.0        R00339   \n",
              "3  2023-07-12         274  Keskiviikko      263.0        R00025   \n",
              "4  2023-07-12         274  Keskiviikko      263.0        R00001   \n",
              "\n",
              "                     Kuvaus  Määrä Perusmittayksikkö  \n",
              "0  Juustoreissari itsetehty    3.0               KPL  \n",
              "1                 Kahvi iso   14.0               KPL  \n",
              "2               Vesi kuuma     2.0               KPL  \n",
              "3                    Kahvi    43.0               KPL  \n",
              "4              Santsikahvi     4.0               KPL  "
            ],
            "text/html": [
              "\n",
              "  <div id=\"df-a353c0fb-09b9-44cf-a1a4-a35890eb4339\" class=\"colab-df-container\">\n",
              "    <div>\n",
              "<style scoped>\n",
              "    .dataframe tbody tr th:only-of-type {\n",
              "        vertical-align: middle;\n",
              "    }\n",
              "\n",
              "    .dataframe tbody tr th {\n",
              "        vertical-align: top;\n",
              "    }\n",
              "\n",
              "    .dataframe thead th {\n",
              "        text-align: right;\n",
              "    }\n",
              "</style>\n",
              "<table border=\"1\" class=\"dataframe\">\n",
              "  <thead>\n",
              "    <tr style=\"text-align: right;\">\n",
              "      <th></th>\n",
              "      <th>Kirjauspvm.</th>\n",
              "      <th>Linjakoodi</th>\n",
              "      <th>Päivän nimi</th>\n",
              "      <th>Varaukset</th>\n",
              "      <th>Nimikkeen nro</th>\n",
              "      <th>Kuvaus</th>\n",
              "      <th>Määrä</th>\n",
              "      <th>Perusmittayksikkö</th>\n",
              "    </tr>\n",
              "  </thead>\n",
              "  <tbody>\n",
              "    <tr>\n",
              "      <th>0</th>\n",
              "      <td>2023-07-12</td>\n",
              "      <td>274</td>\n",
              "      <td>Keskiviikko</td>\n",
              "      <td>263.0</td>\n",
              "      <td>R02038</td>\n",
              "      <td>Juustoreissari itsetehty</td>\n",
              "      <td>3.0</td>\n",
              "      <td>KPL</td>\n",
              "    </tr>\n",
              "    <tr>\n",
              "      <th>1</th>\n",
              "      <td>2023-07-12</td>\n",
              "      <td>274</td>\n",
              "      <td>Keskiviikko</td>\n",
              "      <td>263.0</td>\n",
              "      <td>R00481</td>\n",
              "      <td>Kahvi iso</td>\n",
              "      <td>14.0</td>\n",
              "      <td>KPL</td>\n",
              "    </tr>\n",
              "    <tr>\n",
              "      <th>2</th>\n",
              "      <td>2023-07-12</td>\n",
              "      <td>274</td>\n",
              "      <td>Keskiviikko</td>\n",
              "      <td>263.0</td>\n",
              "      <td>R00339</td>\n",
              "      <td>Vesi kuuma</td>\n",
              "      <td>2.0</td>\n",
              "      <td>KPL</td>\n",
              "    </tr>\n",
              "    <tr>\n",
              "      <th>3</th>\n",
              "      <td>2023-07-12</td>\n",
              "      <td>274</td>\n",
              "      <td>Keskiviikko</td>\n",
              "      <td>263.0</td>\n",
              "      <td>R00025</td>\n",
              "      <td>Kahvi</td>\n",
              "      <td>43.0</td>\n",
              "      <td>KPL</td>\n",
              "    </tr>\n",
              "    <tr>\n",
              "      <th>4</th>\n",
              "      <td>2023-07-12</td>\n",
              "      <td>274</td>\n",
              "      <td>Keskiviikko</td>\n",
              "      <td>263.0</td>\n",
              "      <td>R00001</td>\n",
              "      <td>Santsikahvi</td>\n",
              "      <td>4.0</td>\n",
              "      <td>KPL</td>\n",
              "    </tr>\n",
              "  </tbody>\n",
              "</table>\n",
              "</div>\n",
              "    <div class=\"colab-df-buttons\">\n",
              "\n",
              "  <div class=\"colab-df-container\">\n",
              "    <button class=\"colab-df-convert\" onclick=\"convertToInteractive('df-a353c0fb-09b9-44cf-a1a4-a35890eb4339')\"\n",
              "            title=\"Convert this dataframe to an interactive table.\"\n",
              "            style=\"display:none;\">\n",
              "\n",
              "  <svg xmlns=\"http://www.w3.org/2000/svg\" height=\"24px\" viewBox=\"0 -960 960 960\">\n",
              "    <path d=\"M120-120v-720h720v720H120Zm60-500h600v-160H180v160Zm220 220h160v-160H400v160Zm0 220h160v-160H400v160ZM180-400h160v-160H180v160Zm440 0h160v-160H620v160ZM180-180h160v-160H180v160Zm440 0h160v-160H620v160Z\"/>\n",
              "  </svg>\n",
              "    </button>\n",
              "\n",
              "  <style>\n",
              "    .colab-df-container {\n",
              "      display:flex;\n",
              "      gap: 12px;\n",
              "    }\n",
              "\n",
              "    .colab-df-convert {\n",
              "      background-color: #E8F0FE;\n",
              "      border: none;\n",
              "      border-radius: 50%;\n",
              "      cursor: pointer;\n",
              "      display: none;\n",
              "      fill: #1967D2;\n",
              "      height: 32px;\n",
              "      padding: 0 0 0 0;\n",
              "      width: 32px;\n",
              "    }\n",
              "\n",
              "    .colab-df-convert:hover {\n",
              "      background-color: #E2EBFA;\n",
              "      box-shadow: 0px 1px 2px rgba(60, 64, 67, 0.3), 0px 1px 3px 1px rgba(60, 64, 67, 0.15);\n",
              "      fill: #174EA6;\n",
              "    }\n",
              "\n",
              "    .colab-df-buttons div {\n",
              "      margin-bottom: 4px;\n",
              "    }\n",
              "\n",
              "    [theme=dark] .colab-df-convert {\n",
              "      background-color: #3B4455;\n",
              "      fill: #D2E3FC;\n",
              "    }\n",
              "\n",
              "    [theme=dark] .colab-df-convert:hover {\n",
              "      background-color: #434B5C;\n",
              "      box-shadow: 0px 1px 3px 1px rgba(0, 0, 0, 0.15);\n",
              "      filter: drop-shadow(0px 1px 2px rgba(0, 0, 0, 0.3));\n",
              "      fill: #FFFFFF;\n",
              "    }\n",
              "  </style>\n",
              "\n",
              "    <script>\n",
              "      const buttonEl =\n",
              "        document.querySelector('#df-a353c0fb-09b9-44cf-a1a4-a35890eb4339 button.colab-df-convert');\n",
              "      buttonEl.style.display =\n",
              "        google.colab.kernel.accessAllowed ? 'block' : 'none';\n",
              "\n",
              "      async function convertToInteractive(key) {\n",
              "        const element = document.querySelector('#df-a353c0fb-09b9-44cf-a1a4-a35890eb4339');\n",
              "        const dataTable =\n",
              "          await google.colab.kernel.invokeFunction('convertToInteractive',\n",
              "                                                    [key], {});\n",
              "        if (!dataTable) return;\n",
              "\n",
              "        const docLinkHtml = 'Like what you see? Visit the ' +\n",
              "          '<a target=\"_blank\" href=https://colab.research.google.com/notebooks/data_table.ipynb>data table notebook</a>'\n",
              "          + ' to learn more about interactive tables.';\n",
              "        element.innerHTML = '';\n",
              "        dataTable['output_type'] = 'display_data';\n",
              "        await google.colab.output.renderOutput(dataTable, element);\n",
              "        const docLink = document.createElement('div');\n",
              "        docLink.innerHTML = docLinkHtml;\n",
              "        element.appendChild(docLink);\n",
              "      }\n",
              "    </script>\n",
              "  </div>\n",
              "\n",
              "\n",
              "<div id=\"df-cbdd2a73-c0c2-4966-9f10-f5997670fcb5\">\n",
              "  <button class=\"colab-df-quickchart\" onclick=\"quickchart('df-cbdd2a73-c0c2-4966-9f10-f5997670fcb5')\"\n",
              "            title=\"Suggest charts.\"\n",
              "            style=\"display:none;\">\n",
              "\n",
              "<svg xmlns=\"http://www.w3.org/2000/svg\" height=\"24px\"viewBox=\"0 0 24 24\"\n",
              "     width=\"24px\">\n",
              "    <g>\n",
              "        <path d=\"M19 3H5c-1.1 0-2 .9-2 2v14c0 1.1.9 2 2 2h14c1.1 0 2-.9 2-2V5c0-1.1-.9-2-2-2zM9 17H7v-7h2v7zm4 0h-2V7h2v10zm4 0h-2v-4h2v4z\"/>\n",
              "    </g>\n",
              "</svg>\n",
              "  </button>\n",
              "\n",
              "<style>\n",
              "  .colab-df-quickchart {\n",
              "    background-color: #E8F0FE;\n",
              "    border: none;\n",
              "    border-radius: 50%;\n",
              "    cursor: pointer;\n",
              "    display: none;\n",
              "    fill: #1967D2;\n",
              "    height: 32px;\n",
              "    padding: 0 0 0 0;\n",
              "    width: 32px;\n",
              "  }\n",
              "\n",
              "  .colab-df-quickchart:hover {\n",
              "    background-color: #E2EBFA;\n",
              "    box-shadow: 0px 1px 2px rgba(60, 64, 67, 0.3), 0px 1px 3px 1px rgba(60, 64, 67, 0.15);\n",
              "    fill: #174EA6;\n",
              "  }\n",
              "\n",
              "  [theme=dark] .colab-df-quickchart {\n",
              "    background-color: #3B4455;\n",
              "    fill: #D2E3FC;\n",
              "  }\n",
              "\n",
              "  [theme=dark] .colab-df-quickchart:hover {\n",
              "    background-color: #434B5C;\n",
              "    box-shadow: 0px 1px 3px 1px rgba(0, 0, 0, 0.15);\n",
              "    filter: drop-shadow(0px 1px 2px rgba(0, 0, 0, 0.3));\n",
              "    fill: #FFFFFF;\n",
              "  }\n",
              "</style>\n",
              "\n",
              "  <script>\n",
              "    async function quickchart(key) {\n",
              "      const charts = await google.colab.kernel.invokeFunction(\n",
              "          'suggestCharts', [key], {});\n",
              "    }\n",
              "    (() => {\n",
              "      let quickchartButtonEl =\n",
              "        document.querySelector('#df-cbdd2a73-c0c2-4966-9f10-f5997670fcb5 button');\n",
              "      quickchartButtonEl.style.display =\n",
              "        google.colab.kernel.accessAllowed ? 'block' : 'none';\n",
              "    })();\n",
              "  </script>\n",
              "</div>\n",
              "    </div>\n",
              "  </div>\n"
            ]
          },
          "metadata": {},
          "execution_count": 3
        }
      ],
      "source": [
        "df.head()"
      ]
    },
    {
      "cell_type": "code",
      "execution_count": null,
      "metadata": {
        "id": "ydvEczHRnU4R",
        "colab": {
          "base_uri": "https://localhost:8080/"
        },
        "outputId": "f14a65df-ebde-434f-9b60-a91e96d2ff13"
      },
      "outputs": [
        {
          "output_type": "stream",
          "name": "stdout",
          "text": [
            "<class 'pandas.core.frame.DataFrame'>\n",
            "RangeIndex: 458980 entries, 0 to 458979\n",
            "Data columns (total 8 columns):\n",
            " #   Column             Non-Null Count   Dtype         \n",
            "---  ------             --------------   -----         \n",
            " 0   Kirjauspvm.        458980 non-null  datetime64[ns]\n",
            " 1   Linjakoodi         458980 non-null  int64         \n",
            " 2   Päivän nimi        458980 non-null  object        \n",
            " 3   Varaukset          455773 non-null  float64       \n",
            " 4   Nimikkeen nro      458980 non-null  object        \n",
            " 5   Kuvaus             458980 non-null  object        \n",
            " 6   Määrä              458970 non-null  float64       \n",
            " 7   Perusmittayksikkö  458980 non-null  object        \n",
            "dtypes: datetime64[ns](1), float64(2), int64(1), object(4)\n",
            "memory usage: 28.0+ MB\n"
          ]
        }
      ],
      "source": [
        "df.info()"
      ]
    },
    {
      "cell_type": "code",
      "execution_count": null,
      "metadata": {
        "id": "B_SLFHuTnU65",
        "colab": {
          "base_uri": "https://localhost:8080/",
          "height": 424
        },
        "outputId": "64dd3d5a-0a46-438d-dc00-6e94ac2f658e"
      },
      "outputs": [
        {
          "output_type": "execute_result",
          "data": {
            "text/plain": [
              "        Kirjauspvm.  Linjakoodi  Päivän nimi  Varaukset  Nimikkeen nro  \\\n",
              "0             False       False        False      False          False   \n",
              "1             False       False        False      False          False   \n",
              "2             False       False        False      False          False   \n",
              "3             False       False        False      False          False   \n",
              "4             False       False        False      False          False   \n",
              "...             ...         ...          ...        ...            ...   \n",
              "458975        False       False        False      False          False   \n",
              "458976        False       False        False      False          False   \n",
              "458977        False       False        False      False          False   \n",
              "458978        False       False        False      False          False   \n",
              "458979        False       False        False      False          False   \n",
              "\n",
              "        Kuvaus  Määrä  Perusmittayksikkö  \n",
              "0        False  False              False  \n",
              "1        False  False              False  \n",
              "2        False  False              False  \n",
              "3        False  False              False  \n",
              "4        False  False              False  \n",
              "...        ...    ...                ...  \n",
              "458975   False  False              False  \n",
              "458976   False  False              False  \n",
              "458977   False  False              False  \n",
              "458978   False  False              False  \n",
              "458979   False  False              False  \n",
              "\n",
              "[458980 rows x 8 columns]"
            ],
            "text/html": [
              "\n",
              "  <div id=\"df-5ee07028-d1f6-43b4-9e8b-e74b54f5c0c7\" class=\"colab-df-container\">\n",
              "    <div>\n",
              "<style scoped>\n",
              "    .dataframe tbody tr th:only-of-type {\n",
              "        vertical-align: middle;\n",
              "    }\n",
              "\n",
              "    .dataframe tbody tr th {\n",
              "        vertical-align: top;\n",
              "    }\n",
              "\n",
              "    .dataframe thead th {\n",
              "        text-align: right;\n",
              "    }\n",
              "</style>\n",
              "<table border=\"1\" class=\"dataframe\">\n",
              "  <thead>\n",
              "    <tr style=\"text-align: right;\">\n",
              "      <th></th>\n",
              "      <th>Kirjauspvm.</th>\n",
              "      <th>Linjakoodi</th>\n",
              "      <th>Päivän nimi</th>\n",
              "      <th>Varaukset</th>\n",
              "      <th>Nimikkeen nro</th>\n",
              "      <th>Kuvaus</th>\n",
              "      <th>Määrä</th>\n",
              "      <th>Perusmittayksikkö</th>\n",
              "    </tr>\n",
              "  </thead>\n",
              "  <tbody>\n",
              "    <tr>\n",
              "      <th>0</th>\n",
              "      <td>False</td>\n",
              "      <td>False</td>\n",
              "      <td>False</td>\n",
              "      <td>False</td>\n",
              "      <td>False</td>\n",
              "      <td>False</td>\n",
              "      <td>False</td>\n",
              "      <td>False</td>\n",
              "    </tr>\n",
              "    <tr>\n",
              "      <th>1</th>\n",
              "      <td>False</td>\n",
              "      <td>False</td>\n",
              "      <td>False</td>\n",
              "      <td>False</td>\n",
              "      <td>False</td>\n",
              "      <td>False</td>\n",
              "      <td>False</td>\n",
              "      <td>False</td>\n",
              "    </tr>\n",
              "    <tr>\n",
              "      <th>2</th>\n",
              "      <td>False</td>\n",
              "      <td>False</td>\n",
              "      <td>False</td>\n",
              "      <td>False</td>\n",
              "      <td>False</td>\n",
              "      <td>False</td>\n",
              "      <td>False</td>\n",
              "      <td>False</td>\n",
              "    </tr>\n",
              "    <tr>\n",
              "      <th>3</th>\n",
              "      <td>False</td>\n",
              "      <td>False</td>\n",
              "      <td>False</td>\n",
              "      <td>False</td>\n",
              "      <td>False</td>\n",
              "      <td>False</td>\n",
              "      <td>False</td>\n",
              "      <td>False</td>\n",
              "    </tr>\n",
              "    <tr>\n",
              "      <th>4</th>\n",
              "      <td>False</td>\n",
              "      <td>False</td>\n",
              "      <td>False</td>\n",
              "      <td>False</td>\n",
              "      <td>False</td>\n",
              "      <td>False</td>\n",
              "      <td>False</td>\n",
              "      <td>False</td>\n",
              "    </tr>\n",
              "    <tr>\n",
              "      <th>...</th>\n",
              "      <td>...</td>\n",
              "      <td>...</td>\n",
              "      <td>...</td>\n",
              "      <td>...</td>\n",
              "      <td>...</td>\n",
              "      <td>...</td>\n",
              "      <td>...</td>\n",
              "      <td>...</td>\n",
              "    </tr>\n",
              "    <tr>\n",
              "      <th>458975</th>\n",
              "      <td>False</td>\n",
              "      <td>False</td>\n",
              "      <td>False</td>\n",
              "      <td>False</td>\n",
              "      <td>False</td>\n",
              "      <td>False</td>\n",
              "      <td>False</td>\n",
              "      <td>False</td>\n",
              "    </tr>\n",
              "    <tr>\n",
              "      <th>458976</th>\n",
              "      <td>False</td>\n",
              "      <td>False</td>\n",
              "      <td>False</td>\n",
              "      <td>False</td>\n",
              "      <td>False</td>\n",
              "      <td>False</td>\n",
              "      <td>False</td>\n",
              "      <td>False</td>\n",
              "    </tr>\n",
              "    <tr>\n",
              "      <th>458977</th>\n",
              "      <td>False</td>\n",
              "      <td>False</td>\n",
              "      <td>False</td>\n",
              "      <td>False</td>\n",
              "      <td>False</td>\n",
              "      <td>False</td>\n",
              "      <td>False</td>\n",
              "      <td>False</td>\n",
              "    </tr>\n",
              "    <tr>\n",
              "      <th>458978</th>\n",
              "      <td>False</td>\n",
              "      <td>False</td>\n",
              "      <td>False</td>\n",
              "      <td>False</td>\n",
              "      <td>False</td>\n",
              "      <td>False</td>\n",
              "      <td>False</td>\n",
              "      <td>False</td>\n",
              "    </tr>\n",
              "    <tr>\n",
              "      <th>458979</th>\n",
              "      <td>False</td>\n",
              "      <td>False</td>\n",
              "      <td>False</td>\n",
              "      <td>False</td>\n",
              "      <td>False</td>\n",
              "      <td>False</td>\n",
              "      <td>False</td>\n",
              "      <td>False</td>\n",
              "    </tr>\n",
              "  </tbody>\n",
              "</table>\n",
              "<p>458980 rows × 8 columns</p>\n",
              "</div>\n",
              "    <div class=\"colab-df-buttons\">\n",
              "\n",
              "  <div class=\"colab-df-container\">\n",
              "    <button class=\"colab-df-convert\" onclick=\"convertToInteractive('df-5ee07028-d1f6-43b4-9e8b-e74b54f5c0c7')\"\n",
              "            title=\"Convert this dataframe to an interactive table.\"\n",
              "            style=\"display:none;\">\n",
              "\n",
              "  <svg xmlns=\"http://www.w3.org/2000/svg\" height=\"24px\" viewBox=\"0 -960 960 960\">\n",
              "    <path d=\"M120-120v-720h720v720H120Zm60-500h600v-160H180v160Zm220 220h160v-160H400v160Zm0 220h160v-160H400v160ZM180-400h160v-160H180v160Zm440 0h160v-160H620v160ZM180-180h160v-160H180v160Zm440 0h160v-160H620v160Z\"/>\n",
              "  </svg>\n",
              "    </button>\n",
              "\n",
              "  <style>\n",
              "    .colab-df-container {\n",
              "      display:flex;\n",
              "      gap: 12px;\n",
              "    }\n",
              "\n",
              "    .colab-df-convert {\n",
              "      background-color: #E8F0FE;\n",
              "      border: none;\n",
              "      border-radius: 50%;\n",
              "      cursor: pointer;\n",
              "      display: none;\n",
              "      fill: #1967D2;\n",
              "      height: 32px;\n",
              "      padding: 0 0 0 0;\n",
              "      width: 32px;\n",
              "    }\n",
              "\n",
              "    .colab-df-convert:hover {\n",
              "      background-color: #E2EBFA;\n",
              "      box-shadow: 0px 1px 2px rgba(60, 64, 67, 0.3), 0px 1px 3px 1px rgba(60, 64, 67, 0.15);\n",
              "      fill: #174EA6;\n",
              "    }\n",
              "\n",
              "    .colab-df-buttons div {\n",
              "      margin-bottom: 4px;\n",
              "    }\n",
              "\n",
              "    [theme=dark] .colab-df-convert {\n",
              "      background-color: #3B4455;\n",
              "      fill: #D2E3FC;\n",
              "    }\n",
              "\n",
              "    [theme=dark] .colab-df-convert:hover {\n",
              "      background-color: #434B5C;\n",
              "      box-shadow: 0px 1px 3px 1px rgba(0, 0, 0, 0.15);\n",
              "      filter: drop-shadow(0px 1px 2px rgba(0, 0, 0, 0.3));\n",
              "      fill: #FFFFFF;\n",
              "    }\n",
              "  </style>\n",
              "\n",
              "    <script>\n",
              "      const buttonEl =\n",
              "        document.querySelector('#df-5ee07028-d1f6-43b4-9e8b-e74b54f5c0c7 button.colab-df-convert');\n",
              "      buttonEl.style.display =\n",
              "        google.colab.kernel.accessAllowed ? 'block' : 'none';\n",
              "\n",
              "      async function convertToInteractive(key) {\n",
              "        const element = document.querySelector('#df-5ee07028-d1f6-43b4-9e8b-e74b54f5c0c7');\n",
              "        const dataTable =\n",
              "          await google.colab.kernel.invokeFunction('convertToInteractive',\n",
              "                                                    [key], {});\n",
              "        if (!dataTable) return;\n",
              "\n",
              "        const docLinkHtml = 'Like what you see? Visit the ' +\n",
              "          '<a target=\"_blank\" href=https://colab.research.google.com/notebooks/data_table.ipynb>data table notebook</a>'\n",
              "          + ' to learn more about interactive tables.';\n",
              "        element.innerHTML = '';\n",
              "        dataTable['output_type'] = 'display_data';\n",
              "        await google.colab.output.renderOutput(dataTable, element);\n",
              "        const docLink = document.createElement('div');\n",
              "        docLink.innerHTML = docLinkHtml;\n",
              "        element.appendChild(docLink);\n",
              "      }\n",
              "    </script>\n",
              "  </div>\n",
              "\n",
              "\n",
              "<div id=\"df-601921a6-5545-497a-8ca8-d0b22d018140\">\n",
              "  <button class=\"colab-df-quickchart\" onclick=\"quickchart('df-601921a6-5545-497a-8ca8-d0b22d018140')\"\n",
              "            title=\"Suggest charts.\"\n",
              "            style=\"display:none;\">\n",
              "\n",
              "<svg xmlns=\"http://www.w3.org/2000/svg\" height=\"24px\"viewBox=\"0 0 24 24\"\n",
              "     width=\"24px\">\n",
              "    <g>\n",
              "        <path d=\"M19 3H5c-1.1 0-2 .9-2 2v14c0 1.1.9 2 2 2h14c1.1 0 2-.9 2-2V5c0-1.1-.9-2-2-2zM9 17H7v-7h2v7zm4 0h-2V7h2v10zm4 0h-2v-4h2v4z\"/>\n",
              "    </g>\n",
              "</svg>\n",
              "  </button>\n",
              "\n",
              "<style>\n",
              "  .colab-df-quickchart {\n",
              "    background-color: #E8F0FE;\n",
              "    border: none;\n",
              "    border-radius: 50%;\n",
              "    cursor: pointer;\n",
              "    display: none;\n",
              "    fill: #1967D2;\n",
              "    height: 32px;\n",
              "    padding: 0 0 0 0;\n",
              "    width: 32px;\n",
              "  }\n",
              "\n",
              "  .colab-df-quickchart:hover {\n",
              "    background-color: #E2EBFA;\n",
              "    box-shadow: 0px 1px 2px rgba(60, 64, 67, 0.3), 0px 1px 3px 1px rgba(60, 64, 67, 0.15);\n",
              "    fill: #174EA6;\n",
              "  }\n",
              "\n",
              "  [theme=dark] .colab-df-quickchart {\n",
              "    background-color: #3B4455;\n",
              "    fill: #D2E3FC;\n",
              "  }\n",
              "\n",
              "  [theme=dark] .colab-df-quickchart:hover {\n",
              "    background-color: #434B5C;\n",
              "    box-shadow: 0px 1px 3px 1px rgba(0, 0, 0, 0.15);\n",
              "    filter: drop-shadow(0px 1px 2px rgba(0, 0, 0, 0.3));\n",
              "    fill: #FFFFFF;\n",
              "  }\n",
              "</style>\n",
              "\n",
              "  <script>\n",
              "    async function quickchart(key) {\n",
              "      const charts = await google.colab.kernel.invokeFunction(\n",
              "          'suggestCharts', [key], {});\n",
              "    }\n",
              "    (() => {\n",
              "      let quickchartButtonEl =\n",
              "        document.querySelector('#df-601921a6-5545-497a-8ca8-d0b22d018140 button');\n",
              "      quickchartButtonEl.style.display =\n",
              "        google.colab.kernel.accessAllowed ? 'block' : 'none';\n",
              "    })();\n",
              "  </script>\n",
              "</div>\n",
              "    </div>\n",
              "  </div>\n"
            ]
          },
          "metadata": {},
          "execution_count": 5
        }
      ],
      "source": [
        "df.isnull()"
      ]
    },
    {
      "cell_type": "code",
      "execution_count": null,
      "metadata": {
        "id": "-cFVQY--nU9W",
        "colab": {
          "base_uri": "https://localhost:8080/"
        },
        "outputId": "d6ae2b45-8f16-4768-9257-6326afa3b3e4"
      },
      "outputs": [
        {
          "output_type": "execute_result",
          "data": {
            "text/plain": [
              "Kirjauspvm.             0\n",
              "Linjakoodi              0\n",
              "Päivän nimi             0\n",
              "Varaukset            3207\n",
              "Nimikkeen nro           0\n",
              "Kuvaus                  0\n",
              "Määrä                  10\n",
              "Perusmittayksikkö       0\n",
              "dtype: int64"
            ]
          },
          "metadata": {},
          "execution_count": 6
        }
      ],
      "source": [
        "df.isnull().sum()"
      ]
    },
    {
      "cell_type": "code",
      "execution_count": null,
      "metadata": {
        "id": "2mFH8kkZnU_1",
        "colab": {
          "base_uri": "https://localhost:8080/"
        },
        "outputId": "2614757f-b7d1-4140-83c9-90b9cd9acd76"
      },
      "outputs": [
        {
          "output_type": "execute_result",
          "data": {
            "text/plain": [
              "Kirjauspvm.          0.000000\n",
              "Linjakoodi           0.000000\n",
              "Päivän nimi          0.000000\n",
              "Varaukset            0.698723\n",
              "Nimikkeen nro        0.000000\n",
              "Kuvaus               0.000000\n",
              "Määrä                0.002179\n",
              "Perusmittayksikkö    0.000000\n",
              "dtype: float64"
            ]
          },
          "metadata": {},
          "execution_count": 7
        }
      ],
      "source": [
        "100 * df.isnull().sum() / len(df)"
      ]
    },
    {
      "cell_type": "code",
      "execution_count": null,
      "metadata": {
        "id": "_Bx7SrdJnVCR"
      },
      "outputs": [],
      "source": [
        "def percent_missing(df):\n",
        "  percent_nan = 100 * df.isnull().sum() / len(df)\n",
        "  percent_nan = percent_nan[percent_nan > 0].sort_values()\n",
        "  return percent_nan"
      ]
    },
    {
      "cell_type": "code",
      "execution_count": null,
      "metadata": {
        "id": "Ht313CvtnVEx"
      },
      "outputs": [],
      "source": [
        "percent_nan = percent_missing(df)"
      ]
    },
    {
      "cell_type": "code",
      "execution_count": null,
      "metadata": {
        "id": "gg3y-NptnVHR",
        "colab": {
          "base_uri": "https://localhost:8080/",
          "height": 485
        },
        "outputId": "3e261a31-2f88-41f1-8b3d-2e3655417763"
      },
      "outputs": [
        {
          "output_type": "display_data",
          "data": {
            "text/plain": [
              "<Figure size 640x480 with 1 Axes>"
            ],
            "image/png": "[encoded data removed]"
          },
          "metadata": {}
        }
      ],
      "source": [
        "sns.barplot(x=percent_nan.index, y=percent_nan)\n",
        "plt.xticks(rotation=90);"
      ]
    },
    {
      "cell_type": "code",
      "execution_count": null,
      "metadata": {
        "id": "UImuzwLCnVJ0",
        "colab": {
          "base_uri": "https://localhost:8080/",
          "height": 478
        },
        "outputId": "d48f84e2-b750-4767-a04b-2b5925258a37"
      },
      "outputs": [
        {
          "output_type": "execute_result",
          "data": {
            "text/plain": [
              "       Kirjauspvm.  Linjakoodi  Päivän nimi  Varaukset Nimikkeen nro  \\\n",
              "4726    2023-07-12         276  Keskiviikko        NaN        R02038   \n",
              "4727    2023-07-12         276  Keskiviikko        NaN        R02037   \n",
              "4728    2023-07-12         276  Keskiviikko        NaN        R01871   \n",
              "4729    2023-07-12         276  Keskiviikko        NaN        R01847   \n",
              "4730    2023-07-12         276  Keskiviikko        NaN        R01842   \n",
              "...            ...         ...          ...        ...           ...   \n",
              "446478  2023-08-10         269      Torstai        NaN        100463   \n",
              "446479  2023-08-10         269      Torstai        NaN        100365   \n",
              "446480  2023-08-10         269      Torstai        NaN        100359   \n",
              "446481  2023-08-10         269      Torstai        NaN        100332   \n",
              "446482  2023-08-10         269      Torstai        NaN        100060   \n",
              "\n",
              "                               Kuvaus  Määrä Perusmittayksikkö  \n",
              "4726         Juustoreissari itsetehty   23.0               KPL  \n",
              "4727            Juustosämpylä Glut.RV    1.0               KPL  \n",
              "4728          Nordqvist Tee valikoima    2.0               KPL  \n",
              "4729              Nordqvist Musta Tee    1.0               KPL  \n",
              "4730      Kinkkureissari itsetehty RV    2.0               KPL  \n",
              "...                               ...    ...               ...  \n",
              "446478          Riisipiirakka munavoi    3.0               KPL  \n",
              "446479  A- luonnonjogurtti+marjamysli   16.0               KPL  \n",
              "446480         Kevytmaito lton 2,5 dl    1.0               KPL  \n",
              "446481       Mansikkahillo Star Culin    1.0               KPL  \n",
              "446482              Croissant natural   24.0               KPL  \n",
              "\n",
              "[3207 rows x 8 columns]"
            ],
            "text/html": [
              "\n",
              "  <div id=\"df-e1dfb5f9-b91a-4fec-b3d8-9a513cceb885\" class=\"colab-df-container\">\n",
              "    <div>\n",
              "<style scoped>\n",
              "    .dataframe tbody tr th:only-of-type {\n",
              "        vertical-align: middle;\n",
              "    }\n",
              "\n",
              "    .dataframe tbody tr th {\n",
              "        vertical-align: top;\n",
              "    }\n",
              "\n",
              "    .dataframe thead th {\n",
              "        text-align: right;\n",
              "    }\n",
              "</style>\n",
              "<table border=\"1\" class=\"dataframe\">\n",
              "  <thead>\n",
              "    <tr style=\"text-align: right;\">\n",
              "      <th></th>\n",
              "      <th>Kirjauspvm.</th>\n",
              "      <th>Linjakoodi</th>\n",
              "      <th>Päivän nimi</th>\n",
              "      <th>Varaukset</th>\n",
              "      <th>Nimikkeen nro</th>\n",
              "      <th>Kuvaus</th>\n",
              "      <th>Määrä</th>\n",
              "      <th>Perusmittayksikkö</th>\n",
              "    </tr>\n",
              "  </thead>\n",
              "  <tbody>\n",
              "    <tr>\n",
              "      <th>4726</th>\n",
              "      <td>2023-07-12</td>\n",
              "      <td>276</td>\n",
              "      <td>Keskiviikko</td>\n",
              "      <td>NaN</td>\n",
              "      <td>R02038</td>\n",
              "      <td>Juustoreissari itsetehty</td>\n",
              "      <td>23.0</td>\n",
              "      <td>KPL</td>\n",
              "    </tr>\n",
              "    <tr>\n",
              "      <th>4727</th>\n",
              "      <td>2023-07-12</td>\n",
              "      <td>276</td>\n",
              "      <td>Keskiviikko</td>\n",
              "      <td>NaN</td>\n",
              "      <td>R02037</td>\n",
              "      <td>Juustosämpylä Glut.RV</td>\n",
              "      <td>1.0</td>\n",
              "      <td>KPL</td>\n",
              "    </tr>\n",
              "    <tr>\n",
              "      <th>4728</th>\n",
              "      <td>2023-07-12</td>\n",
              "      <td>276</td>\n",
              "      <td>Keskiviikko</td>\n",
              "      <td>NaN</td>\n",
              "      <td>R01871</td>\n",
              "      <td>Nordqvist Tee valikoima</td>\n",
              "      <td>2.0</td>\n",
              "      <td>KPL</td>\n",
              "    </tr>\n",
              "    <tr>\n",
              "      <th>4729</th>\n",
              "      <td>2023-07-12</td>\n",
              "      <td>276</td>\n",
              "      <td>Keskiviikko</td>\n",
              "      <td>NaN</td>\n",
              "      <td>R01847</td>\n",
              "      <td>Nordqvist Musta Tee</td>\n",
              "      <td>1.0</td>\n",
              "      <td>KPL</td>\n",
              "    </tr>\n",
              "    <tr>\n",
              "      <th>4730</th>\n",
              "      <td>2023-07-12</td>\n",
              "      <td>276</td>\n",
              "      <td>Keskiviikko</td>\n",
              "      <td>NaN</td>\n",
              "      <td>R01842</td>\n",
              "      <td>Kinkkureissari itsetehty RV</td>\n",
              "      <td>2.0</td>\n",
              "      <td>KPL</td>\n",
              "    </tr>\n",
              "    <tr>\n",
              "      <th>...</th>\n",
              "      <td>...</td>\n",
              "      <td>...</td>\n",
              "      <td>...</td>\n",
              "      <td>...</td>\n",
              "      <td>...</td>\n",
              "      <td>...</td>\n",
              "      <td>...</td>\n",
              "      <td>...</td>\n",
              "    </tr>\n",
              "    <tr>\n",
              "      <th>446478</th>\n",
              "      <td>2023-08-10</td>\n",
              "      <td>269</td>\n",
              "      <td>Torstai</td>\n",
              "      <td>NaN</td>\n",
              "      <td>100463</td>\n",
              "      <td>Riisipiirakka munavoi</td>\n",
              "      <td>3.0</td>\n",
              "      <td>KPL</td>\n",
              "    </tr>\n",
              "    <tr>\n",
              "      <th>446479</th>\n",
              "      <td>2023-08-10</td>\n",
              "      <td>269</td>\n",
              "      <td>Torstai</td>\n",
              "      <td>NaN</td>\n",
              "      <td>100365</td>\n",
              "      <td>A- luonnonjogurtti+marjamysli</td>\n",
              "      <td>16.0</td>\n",
              "      <td>KPL</td>\n",
              "    </tr>\n",
              "    <tr>\n",
              "      <th>446480</th>\n",
              "      <td>2023-08-10</td>\n",
              "      <td>269</td>\n",
              "      <td>Torstai</td>\n",
              "      <td>NaN</td>\n",
              "      <td>100359</td>\n",
              "      <td>Kevytmaito lton 2,5 dl</td>\n",
              "      <td>1.0</td>\n",
              "      <td>KPL</td>\n",
              "    </tr>\n",
              "    <tr>\n",
              "      <th>446481</th>\n",
              "      <td>2023-08-10</td>\n",
              "      <td>269</td>\n",
              "      <td>Torstai</td>\n",
              "      <td>NaN</td>\n",
              "      <td>100332</td>\n",
              "      <td>Mansikkahillo Star Culin</td>\n",
              "      <td>1.0</td>\n",
              "      <td>KPL</td>\n",
              "    </tr>\n",
              "    <tr>\n",
              "      <th>446482</th>\n",
              "      <td>2023-08-10</td>\n",
              "      <td>269</td>\n",
              "      <td>Torstai</td>\n",
              "      <td>NaN</td>\n",
              "      <td>100060</td>\n",
              "      <td>Croissant natural</td>\n",
              "      <td>24.0</td>\n",
              "      <td>KPL</td>\n",
              "    </tr>\n",
              "  </tbody>\n",
              "</table>\n",
              "<p>3207 rows × 8 columns</p>\n",
              "</div>\n",
              "    <div class=\"colab-df-buttons\">\n",
              "\n",
              "  <div class=\"colab-df-container\">\n",
              "    <button class=\"colab-df-convert\" onclick=\"convertToInteractive('df-e1dfb5f9-b91a-4fec-b3d8-9a513cceb885')\"\n",
              "            title=\"Convert this dataframe to an interactive table.\"\n",
              "            style=\"display:none;\">\n",
              "\n",
              "  <svg xmlns=\"http://www.w3.org/2000/svg\" height=\"24px\" viewBox=\"0 -960 960 960\">\n",
              "    <path d=\"M120-120v-720h720v720H120Zm60-500h600v-160H180v160Zm220 220h160v-160H400v160Zm0 220h160v-160H400v160ZM180-400h160v-160H180v160Zm440 0h160v-160H620v160ZM180-180h160v-160H180v160Zm440 0h160v-160H620v160Z\"/>\n",
              "  </svg>\n",
              "    </button>\n",
              "\n",
              "  <style>\n",
              "    .colab-df-container {\n",
              "      display:flex;\n",
              "      gap: 12px;\n",
              "    }\n",
              "\n",
              "    .colab-df-convert {\n",
              "      background-color: #E8F0FE;\n",
              "      border: none;\n",
              "      border-radius: 50%;\n",
              "      cursor: pointer;\n",
              "      display: none;\n",
              "      fill: #1967D2;\n",
              "      height: 32px;\n",
              "      padding: 0 0 0 0;\n",
              "      width: 32px;\n",
              "    }\n",
              "\n",
              "    .colab-df-convert:hover {\n",
              "      background-color: #E2EBFA;\n",
              "      box-shadow: 0px 1px 2px rgba(60, 64, 67, 0.3), 0px 1px 3px 1px rgba(60, 64, 67, 0.15);\n",
              "      fill: #174EA6;\n",
              "    }\n",
              "\n",
              "    .colab-df-buttons div {\n",
              "      margin-bottom: 4px;\n",
              "    }\n",
              "\n",
              "    [theme=dark] .colab-df-convert {\n",
              "      background-color: #3B4455;\n",
              "      fill: #D2E3FC;\n",
              "    }\n",
              "\n",
              "    [theme=dark] .colab-df-convert:hover {\n",
              "      background-color: #434B5C;\n",
              "      box-shadow: 0px 1px 3px 1px rgba(0, 0, 0, 0.15);\n",
              "      filter: drop-shadow(0px 1px 2px rgba(0, 0, 0, 0.3));\n",
              "      fill: #FFFFFF;\n",
              "    }\n",
              "  </style>\n",
              "\n",
              "    <script>\n",
              "      const buttonEl =\n",
              "        document.querySelector('#df-e1dfb5f9-b91a-4fec-b3d8-9a513cceb885 button.colab-df-convert');\n",
              "      buttonEl.style.display =\n",
              "        google.colab.kernel.accessAllowed ? 'block' : 'none';\n",
              "\n",
              "      async function convertToInteractive(key) {\n",
              "        const element = document.querySelector('#df-e1dfb5f9-b91a-4fec-b3d8-9a513cceb885');\n",
              "        const dataTable =\n",
              "          await google.colab.kernel.invokeFunction('convertToInteractive',\n",
              "                                                    [key], {});\n",
              "        if (!dataTable) return;\n",
              "\n",
              "        const docLinkHtml = 'Like what you see? Visit the ' +\n",
              "          '<a target=\"_blank\" href=https://colab.research.google.com/notebooks/data_table.ipynb>data table notebook</a>'\n",
              "          + ' to learn more about interactive tables.';\n",
              "        element.innerHTML = '';\n",
              "        dataTable['output_type'] = 'display_data';\n",
              "        await google.colab.output.renderOutput(dataTable, element);\n",
              "        const docLink = document.createElement('div');\n",
              "        docLink.innerHTML = docLinkHtml;\n",
              "        element.appendChild(docLink);\n",
              "      }\n",
              "    </script>\n",
              "  </div>\n",
              "\n",
              "\n",
              "<div id=\"df-3c164c6b-a9f7-4c53-bf67-edfe3787d864\">\n",
              "  <button class=\"colab-df-quickchart\" onclick=\"quickchart('df-3c164c6b-a9f7-4c53-bf67-edfe3787d864')\"\n",
              "            title=\"Suggest charts.\"\n",
              "            style=\"display:none;\">\n",
              "\n",
              "<svg xmlns=\"http://www.w3.org/2000/svg\" height=\"24px\"viewBox=\"0 0 24 24\"\n",
              "     width=\"24px\">\n",
              "    <g>\n",
              "        <path d=\"M19 3H5c-1.1 0-2 .9-2 2v14c0 1.1.9 2 2 2h14c1.1 0 2-.9 2-2V5c0-1.1-.9-2-2-2zM9 17H7v-7h2v7zm4 0h-2V7h2v10zm4 0h-2v-4h2v4z\"/>\n",
              "    </g>\n",
              "</svg>\n",
              "  </button>\n",
              "\n",
              "<style>\n",
              "  .colab-df-quickchart {\n",
              "    background-color: #E8F0FE;\n",
              "    border: none;\n",
              "    border-radius: 50%;\n",
              "    cursor: pointer;\n",
              "    display: none;\n",
              "    fill: #1967D2;\n",
              "    height: 32px;\n",
              "    padding: 0 0 0 0;\n",
              "    width: 32px;\n",
              "  }\n",
              "\n",
              "  .colab-df-quickchart:hover {\n",
              "    background-color: #E2EBFA;\n",
              "    box-shadow: 0px 1px 2px rgba(60, 64, 67, 0.3), 0px 1px 3px 1px rgba(60, 64, 67, 0.15);\n",
              "    fill: #174EA6;\n",
              "  }\n",
              "\n",
              "  [theme=dark] .colab-df-quickchart {\n",
              "    background-color: #3B4455;\n",
              "    fill: #D2E3FC;\n",
              "  }\n",
              "\n",
              "  [theme=dark] .colab-df-quickchart:hover {\n",
              "    background-color: #434B5C;\n",
              "    box-shadow: 0px 1px 3px 1px rgba(0, 0, 0, 0.15);\n",
              "    filter: drop-shadow(0px 1px 2px rgba(0, 0, 0, 0.3));\n",
              "    fill: #FFFFFF;\n",
              "  }\n",
              "</style>\n",
              "\n",
              "  <script>\n",
              "    async function quickchart(key) {\n",
              "      const charts = await google.colab.kernel.invokeFunction(\n",
              "          'suggestCharts', [key], {});\n",
              "    }\n",
              "    (() => {\n",
              "      let quickchartButtonEl =\n",
              "        document.querySelector('#df-3c164c6b-a9f7-4c53-bf67-edfe3787d864 button');\n",
              "      quickchartButtonEl.style.display =\n",
              "        google.colab.kernel.accessAllowed ? 'block' : 'none';\n",
              "    })();\n",
              "  </script>\n",
              "</div>\n",
              "    </div>\n",
              "  </div>\n"
            ]
          },
          "metadata": {},
          "execution_count": 11
        }
      ],
      "source": [
        "df[df[\"Varaukset\"].isnull()]"
      ]
    },
    {
      "cell_type": "code",
      "execution_count": null,
      "metadata": {
        "id": "XtzV8xkYnVMX",
        "colab": {
          "base_uri": "https://localhost:8080/",
          "height": 450
        },
        "outputId": "f20b6d69-80c4-49ad-9ad9-a35756d7c34d"
      },
      "outputs": [
        {
          "output_type": "execute_result",
          "data": {
            "text/plain": [
              "       Kirjauspvm.  Linjakoodi  Päivän nimi  Varaukset Nimikkeen nro  \\\n",
              "57004   2023-07-19          41  Keskiviikko      108.0        100610   \n",
              "76880   2023-06-24         262     Lauantai        NaN        R00265   \n",
              "76883   2023-06-24         262     Lauantai        NaN         K0455   \n",
              "76884   2023-06-24         262     Lauantai        NaN         K0454   \n",
              "76885   2023-06-24         262     Lauantai        NaN         90276   \n",
              "81815   2023-05-27          54     Lauantai      305.0        R01181   \n",
              "165406  2023-07-31         274    Maanantai      372.0        100610   \n",
              "165407  2023-07-31         203    Maanantai        NaN        100610   \n",
              "350431  2023-05-23          28      Tiistai      265.0         70080   \n",
              "417766  2023-07-27          26      Torstai      403.0        100610   \n",
              "\n",
              "                               Kuvaus  Määrä Perusmittayksikkö  \n",
              "57004                     Avoin ruoka    NaN               KPL  \n",
              "76880          Kaurapuuro ja mustikat    NaN             ANNOS  \n",
              "76883     Double Kansi, tear tab 90mm    NaN               KPL  \n",
              "76884        Double Kuumakuppi 360 ml    NaN               KPL  \n",
              "76885               Palvelumaksu 1,00    NaN               KPL  \n",
              "81815   RV. Isot lihapullat ja muusia    NaN             ANNOS  \n",
              "165406                    Avoin ruoka    NaN               KPL  \n",
              "165407                    Avoin ruoka    NaN               KPL  \n",
              "350431            Läkerol seasalt 25g    NaN               KPL  \n",
              "417766                    Avoin ruoka    NaN               KPL  "
            ],
            "text/html": [
              "\n",
              "  <div id=\"df-f3f0a554-88d2-4647-8049-3c3f95171918\" class=\"colab-df-container\">\n",
              "    <div>\n",
              "<style scoped>\n",
              "    .dataframe tbody tr th:only-of-type {\n",
              "        vertical-align: middle;\n",
              "    }\n",
              "\n",
              "    .dataframe tbody tr th {\n",
              "        vertical-align: top;\n",
              "    }\n",
              "\n",
              "    .dataframe thead th {\n",
              "        text-align: right;\n",
              "    }\n",
              "</style>\n",
              "<table border=\"1\" class=\"dataframe\">\n",
              "  <thead>\n",
              "    <tr style=\"text-align: right;\">\n",
              "      <th></th>\n",
              "      <th>Kirjauspvm.</th>\n",
              "      <th>Linjakoodi</th>\n",
              "      <th>Päivän nimi</th>\n",
              "      <th>Varaukset</th>\n",
              "      <th>Nimikkeen nro</th>\n",
              "      <th>Kuvaus</th>\n",
              "      <th>Määrä</th>\n",
              "      <th>Perusmittayksikkö</th>\n",
              "    </tr>\n",
              "  </thead>\n",
              "  <tbody>\n",
              "    <tr>\n",
              "      <th>57004</th>\n",
              "      <td>2023-07-19</td>\n",
              "      <td>41</td>\n",
              "      <td>Keskiviikko</td>\n",
              "      <td>108.0</td>\n",
              "      <td>100610</td>\n",
              "      <td>Avoin ruoka</td>\n",
              "      <td>NaN</td>\n",
              "      <td>KPL</td>\n",
              "    </tr>\n",
              "    <tr>\n",
              "      <th>76880</th>\n",
              "      <td>2023-06-24</td>\n",
              "      <td>262</td>\n",
              "      <td>Lauantai</td>\n",
              "      <td>NaN</td>\n",
              "      <td>R00265</td>\n",
              "      <td>Kaurapuuro ja mustikat</td>\n",
              "      <td>NaN</td>\n",
              "      <td>ANNOS</td>\n",
              "    </tr>\n",
              "    <tr>\n",
              "      <th>76883</th>\n",
              "      <td>2023-06-24</td>\n",
              "      <td>262</td>\n",
              "      <td>Lauantai</td>\n",
              "      <td>NaN</td>\n",
              "      <td>K0455</td>\n",
              "      <td>Double Kansi, tear tab 90mm</td>\n",
              "      <td>NaN</td>\n",
              "      <td>KPL</td>\n",
              "    </tr>\n",
              "    <tr>\n",
              "      <th>76884</th>\n",
              "      <td>2023-06-24</td>\n",
              "      <td>262</td>\n",
              "      <td>Lauantai</td>\n",
              "      <td>NaN</td>\n",
              "      <td>K0454</td>\n",
              "      <td>Double Kuumakuppi 360 ml</td>\n",
              "      <td>NaN</td>\n",
              "      <td>KPL</td>\n",
              "    </tr>\n",
              "    <tr>\n",
              "      <th>76885</th>\n",
              "      <td>2023-06-24</td>\n",
              "      <td>262</td>\n",
              "      <td>Lauantai</td>\n",
              "      <td>NaN</td>\n",
              "      <td>90276</td>\n",
              "      <td>Palvelumaksu 1,00</td>\n",
              "      <td>NaN</td>\n",
              "      <td>KPL</td>\n",
              "    </tr>\n",
              "    <tr>\n",
              "      <th>81815</th>\n",
              "      <td>2023-05-27</td>\n",
              "      <td>54</td>\n",
              "      <td>Lauantai</td>\n",
              "      <td>305.0</td>\n",
              "      <td>R01181</td>\n",
              "      <td>RV. Isot lihapullat ja muusia</td>\n",
              "      <td>NaN</td>\n",
              "      <td>ANNOS</td>\n",
              "    </tr>\n",
              "    <tr>\n",
              "      <th>165406</th>\n",
              "      <td>2023-07-31</td>\n",
              "      <td>274</td>\n",
              "      <td>Maanantai</td>\n",
              "      <td>372.0</td>\n",
              "      <td>100610</td>\n",
              "      <td>Avoin ruoka</td>\n",
              "      <td>NaN</td>\n",
              "      <td>KPL</td>\n",
              "    </tr>\n",
              "    <tr>\n",
              "      <th>165407</th>\n",
              "      <td>2023-07-31</td>\n",
              "      <td>203</td>\n",
              "      <td>Maanantai</td>\n",
              "      <td>NaN</td>\n",
              "      <td>100610</td>\n",
              "      <td>Avoin ruoka</td>\n",
              "      <td>NaN</td>\n",
              "      <td>KPL</td>\n",
              "    </tr>\n",
              "    <tr>\n",
              "      <th>350431</th>\n",
              "      <td>2023-05-23</td>\n",
              "      <td>28</td>\n",
              "      <td>Tiistai</td>\n",
              "      <td>265.0</td>\n",
              "      <td>70080</td>\n",
              "      <td>Läkerol seasalt 25g</td>\n",
              "      <td>NaN</td>\n",
              "      <td>KPL</td>\n",
              "    </tr>\n",
              "    <tr>\n",
              "      <th>417766</th>\n",
              "      <td>2023-07-27</td>\n",
              "      <td>26</td>\n",
              "      <td>Torstai</td>\n",
              "      <td>403.0</td>\n",
              "      <td>100610</td>\n",
              "      <td>Avoin ruoka</td>\n",
              "      <td>NaN</td>\n",
              "      <td>KPL</td>\n",
              "    </tr>\n",
              "  </tbody>\n",
              "</table>\n",
              "</div>\n",
              "    <div class=\"colab-df-buttons\">\n",
              "\n",
              "  <div class=\"colab-df-container\">\n",
              "    <button class=\"colab-df-convert\" onclick=\"convertToInteractive('df-f3f0a554-88d2-4647-8049-3c3f95171918')\"\n",
              "            title=\"Convert this dataframe to an interactive table.\"\n",
              "            style=\"display:none;\">\n",
              "\n",
              "  <svg xmlns=\"http://www.w3.org/2000/svg\" height=\"24px\" viewBox=\"0 -960 960 960\">\n",
              "    <path d=\"M120-120v-720h720v720H120Zm60-500h600v-160H180v160Zm220 220h160v-160H400v160Zm0 220h160v-160H400v160ZM180-400h160v-160H180v160Zm440 0h160v-160H620v160ZM180-180h160v-160H180v160Zm440 0h160v-160H620v160Z\"/>\n",
              "  </svg>\n",
              "    </button>\n",
              "\n",
              "  <style>\n",
              "    .colab-df-container {\n",
              "      display:flex;\n",
              "      gap: 12px;\n",
              "    }\n",
              "\n",
              "    .colab-df-convert {\n",
              "      background-color: #E8F0FE;\n",
              "      border: none;\n",
              "      border-radius: 50%;\n",
              "      cursor: pointer;\n",
              "      display: none;\n",
              "      fill: #1967D2;\n",
              "      height: 32px;\n",
              "      padding: 0 0 0 0;\n",
              "      width: 32px;\n",
              "    }\n",
              "\n",
              "    .colab-df-convert:hover {\n",
              "      background-color: #E2EBFA;\n",
              "      box-shadow: 0px 1px 2px rgba(60, 64, 67, 0.3), 0px 1px 3px 1px rgba(60, 64, 67, 0.15);\n",
              "      fill: #174EA6;\n",
              "    }\n",
              "\n",
              "    .colab-df-buttons div {\n",
              "      margin-bottom: 4px;\n",
              "    }\n",
              "\n",
              "    [theme=dark] .colab-df-convert {\n",
              "      background-color: #3B4455;\n",
              "      fill: #D2E3FC;\n",
              "    }\n",
              "\n",
              "    [theme=dark] .colab-df-convert:hover {\n",
              "      background-color: #434B5C;\n",
              "      box-shadow: 0px 1px 3px 1px rgba(0, 0, 0, 0.15);\n",
              "      filter: drop-shadow(0px 1px 2px rgba(0, 0, 0, 0.3));\n",
              "      fill: #FFFFFF;\n",
              "    }\n",
              "  </style>\n",
              "\n",
              "    <script>\n",
              "      const buttonEl =\n",
              "        document.querySelector('#df-f3f0a554-88d2-4647-8049-3c3f95171918 button.colab-df-convert');\n",
              "      buttonEl.style.display =\n",
              "        google.colab.kernel.accessAllowed ? 'block' : 'none';\n",
              "\n",
              "      async function convertToInteractive(key) {\n",
              "        const element = document.querySelector('#df-f3f0a554-88d2-4647-8049-3c3f95171918');\n",
              "        const dataTable =\n",
              "          await google.colab.kernel.invokeFunction('convertToInteractive',\n",
              "                                                    [key], {});\n",
              "        if (!dataTable) return;\n",
              "\n",
              "        const docLinkHtml = 'Like what you see? Visit the ' +\n",
              "          '<a target=\"_blank\" href=https://colab.research.google.com/notebooks/data_table.ipynb>data table notebook</a>'\n",
              "          + ' to learn more about interactive tables.';\n",
              "        element.innerHTML = '';\n",
              "        dataTable['output_type'] = 'display_data';\n",
              "        await google.colab.output.renderOutput(dataTable, element);\n",
              "        const docLink = document.createElement('div');\n",
              "        docLink.innerHTML = docLinkHtml;\n",
              "        element.appendChild(docLink);\n",
              "      }\n",
              "    </script>\n",
              "  </div>\n",
              "\n",
              "\n",
              "<div id=\"df-71187f1a-1fb5-49d3-a3c6-a21257530020\">\n",
              "  <button class=\"colab-df-quickchart\" onclick=\"quickchart('df-71187f1a-1fb5-49d3-a3c6-a21257530020')\"\n",
              "            title=\"Suggest charts.\"\n",
              "            style=\"display:none;\">\n",
              "\n",
              "<svg xmlns=\"http://www.w3.org/2000/svg\" height=\"24px\"viewBox=\"0 0 24 24\"\n",
              "     width=\"24px\">\n",
              "    <g>\n",
              "        <path d=\"M19 3H5c-1.1 0-2 .9-2 2v14c0 1.1.9 2 2 2h14c1.1 0 2-.9 2-2V5c0-1.1-.9-2-2-2zM9 17H7v-7h2v7zm4 0h-2V7h2v10zm4 0h-2v-4h2v4z\"/>\n",
              "    </g>\n",
              "</svg>\n",
              "  </button>\n",
              "\n",
              "<style>\n",
              "  .colab-df-quickchart {\n",
              "    background-color: #E8F0FE;\n",
              "    border: none;\n",
              "    border-radius: 50%;\n",
              "    cursor: pointer;\n",
              "    display: none;\n",
              "    fill: #1967D2;\n",
              "    height: 32px;\n",
              "    padding: 0 0 0 0;\n",
              "    width: 32px;\n",
              "  }\n",
              "\n",
              "  .colab-df-quickchart:hover {\n",
              "    background-color: #E2EBFA;\n",
              "    box-shadow: 0px 1px 2px rgba(60, 64, 67, 0.3), 0px 1px 3px 1px rgba(60, 64, 67, 0.15);\n",
              "    fill: #174EA6;\n",
              "  }\n",
              "\n",
              "  [theme=dark] .colab-df-quickchart {\n",
              "    background-color: #3B4455;\n",
              "    fill: #D2E3FC;\n",
              "  }\n",
              "\n",
              "  [theme=dark] .colab-df-quickchart:hover {\n",
              "    background-color: #434B5C;\n",
              "    box-shadow: 0px 1px 3px 1px rgba(0, 0, 0, 0.15);\n",
              "    filter: drop-shadow(0px 1px 2px rgba(0, 0, 0, 0.3));\n",
              "    fill: #FFFFFF;\n",
              "  }\n",
              "</style>\n",
              "\n",
              "  <script>\n",
              "    async function quickchart(key) {\n",
              "      const charts = await google.colab.kernel.invokeFunction(\n",
              "          'suggestCharts', [key], {});\n",
              "    }\n",
              "    (() => {\n",
              "      let quickchartButtonEl =\n",
              "        document.querySelector('#df-71187f1a-1fb5-49d3-a3c6-a21257530020 button');\n",
              "      quickchartButtonEl.style.display =\n",
              "        google.colab.kernel.accessAllowed ? 'block' : 'none';\n",
              "    })();\n",
              "  </script>\n",
              "</div>\n",
              "    </div>\n",
              "  </div>\n"
            ]
          },
          "metadata": {},
          "execution_count": 12
        }
      ],
      "source": [
        "df[df[\"Määrä\"].isnull()]"
      ]
    },
    {
      "cell_type": "code",
      "execution_count": null,
      "metadata": {
        "id": "bfzFAbuUnVO8"
      },
      "outputs": [],
      "source": [
        "df = df.dropna()"
      ]
    },
    {
      "cell_type": "code",
      "execution_count": null,
      "metadata": {
        "id": "YjX3880_nVRZ",
        "colab": {
          "base_uri": "https://localhost:8080/"
        },
        "outputId": "a9f77098-2be2-49ee-bf0d-01c8ad5026d3"
      },
      "outputs": [
        {
          "output_type": "execute_result",
          "data": {
            "text/plain": [
              "Kirjauspvm.          0\n",
              "Linjakoodi           0\n",
              "Päivän nimi          0\n",
              "Varaukset            0\n",
              "Nimikkeen nro        0\n",
              "Kuvaus               0\n",
              "Määrä                0\n",
              "Perusmittayksikkö    0\n",
              "dtype: int64"
            ]
          },
          "metadata": {},
          "execution_count": 14
        }
      ],
      "source": [
        "df.isnull().sum()"
      ]
    },
    {
      "cell_type": "code",
      "execution_count": null,
      "metadata": {
        "id": "xLfoQo9mnVUL",
        "colab": {
          "base_uri": "https://localhost:8080/"
        },
        "outputId": "34bc8de9-899f-4004-dfe6-f97e259fcec8"
      },
      "outputs": [
        {
          "output_type": "stream",
          "name": "stdout",
          "text": [
            "<class 'pandas.core.frame.DataFrame'>\n",
            "Int64Index: 455768 entries, 0 to 458979\n",
            "Data columns (total 8 columns):\n",
            " #   Column             Non-Null Count   Dtype         \n",
            "---  ------             --------------   -----         \n",
            " 0   Kirjauspvm.        455768 non-null  datetime64[ns]\n",
            " 1   Linjakoodi         455768 non-null  int64         \n",
            " 2   Päivän nimi        455768 non-null  object        \n",
            " 3   Varaukset          455768 non-null  float64       \n",
            " 4   Nimikkeen nro      455768 non-null  object        \n",
            " 5   Kuvaus             455768 non-null  object        \n",
            " 6   Määrä              455768 non-null  float64       \n",
            " 7   Perusmittayksikkö  455768 non-null  object        \n",
            "dtypes: datetime64[ns](1), float64(2), int64(1), object(4)\n",
            "memory usage: 31.3+ MB\n"
          ]
        }
      ],
      "source": [
        "df.info()"
      ]
    },
    {
      "cell_type": "code",
      "execution_count": null,
      "metadata": {
        "id": "3utp6wnynVWq",
        "colab": {
          "base_uri": "https://localhost:8080/",
          "height": 455
        },
        "outputId": "e5c0d4f9-4379-4545-9508-aadc3dbc7011"
      },
      "outputs": [
        {
          "output_type": "execute_result",
          "data": {
            "text/plain": [
              "                                      Kirjauspvm.  Varaukset  Kuvaus  Määrä  \\\n",
              "Nimikkeen nro Päivän nimi Linjakoodi                                          \n",
              "100006        Keskiviikko 5                     3          3       3      3   \n",
              "                          8                     1          1       1      1   \n",
              "                          9                     2          2       2      2   \n",
              "                          10                    1          1       1      1   \n",
              "                          11                    1          1       1      1   \n",
              "...                                           ...        ...     ...    ...   \n",
              "R02125        Maanantai   274                   2          2       2      2   \n",
              "              Sunnuntai   265                   2          2       2      2   \n",
              "                          276                   2          2       2      2   \n",
              "              Tiistai     45                    1          1       1      1   \n",
              "                          276                   1          1       1      1   \n",
              "\n",
              "                                      Perusmittayksikkö  \n",
              "Nimikkeen nro Päivän nimi Linjakoodi                     \n",
              "100006        Keskiviikko 5                           3  \n",
              "                          8                           1  \n",
              "                          9                           2  \n",
              "                          10                          1  \n",
              "                          11                          1  \n",
              "...                                                 ...  \n",
              "R02125        Maanantai   274                         2  \n",
              "              Sunnuntai   265                         2  \n",
              "                          276                         2  \n",
              "              Tiistai     45                          1  \n",
              "                          276                         1  \n",
              "\n",
              "[95238 rows x 5 columns]"
            ],
            "text/html": [
              "\n",
              "  <div id=\"df-e848a0ed-9f43-4fa5-baca-d9234803d161\" class=\"colab-df-container\">\n",
              "    <div>\n",
              "<style scoped>\n",
              "    .dataframe tbody tr th:only-of-type {\n",
              "        vertical-align: middle;\n",
              "    }\n",
              "\n",
              "    .dataframe tbody tr th {\n",
              "        vertical-align: top;\n",
              "    }\n",
              "\n",
              "    .dataframe thead th {\n",
              "        text-align: right;\n",
              "    }\n",
              "</style>\n",
              "<table border=\"1\" class=\"dataframe\">\n",
              "  <thead>\n",
              "    <tr style=\"text-align: right;\">\n",
              "      <th></th>\n",
              "      <th></th>\n",
              "      <th></th>\n",
              "      <th>Kirjauspvm.</th>\n",
              "      <th>Varaukset</th>\n",
              "      <th>Kuvaus</th>\n",
              "      <th>Määrä</th>\n",
              "      <th>Perusmittayksikkö</th>\n",
              "    </tr>\n",
              "    <tr>\n",
              "      <th>Nimikkeen nro</th>\n",
              "      <th>Päivän nimi</th>\n",
              "      <th>Linjakoodi</th>\n",
              "      <th></th>\n",
              "      <th></th>\n",
              "      <th></th>\n",
              "      <th></th>\n",
              "      <th></th>\n",
              "    </tr>\n",
              "  </thead>\n",
              "  <tbody>\n",
              "    <tr>\n",
              "      <th rowspan=\"5\" valign=\"top\">100006</th>\n",
              "      <th rowspan=\"5\" valign=\"top\">Keskiviikko</th>\n",
              "      <th>5</th>\n",
              "      <td>3</td>\n",
              "      <td>3</td>\n",
              "      <td>3</td>\n",
              "      <td>3</td>\n",
              "      <td>3</td>\n",
              "    </tr>\n",
              "    <tr>\n",
              "      <th>8</th>\n",
              "      <td>1</td>\n",
              "      <td>1</td>\n",
              "      <td>1</td>\n",
              "      <td>1</td>\n",
              "      <td>1</td>\n",
              "    </tr>\n",
              "    <tr>\n",
              "      <th>9</th>\n",
              "      <td>2</td>\n",
              "      <td>2</td>\n",
              "      <td>2</td>\n",
              "      <td>2</td>\n",
              "      <td>2</td>\n",
              "    </tr>\n",
              "    <tr>\n",
              "      <th>10</th>\n",
              "      <td>1</td>\n",
              "      <td>1</td>\n",
              "      <td>1</td>\n",
              "      <td>1</td>\n",
              "      <td>1</td>\n",
              "    </tr>\n",
              "    <tr>\n",
              "      <th>11</th>\n",
              "      <td>1</td>\n",
              "      <td>1</td>\n",
              "      <td>1</td>\n",
              "      <td>1</td>\n",
              "      <td>1</td>\n",
              "    </tr>\n",
              "    <tr>\n",
              "      <th>...</th>\n",
              "      <th>...</th>\n",
              "      <th>...</th>\n",
              "      <td>...</td>\n",
              "      <td>...</td>\n",
              "      <td>...</td>\n",
              "      <td>...</td>\n",
              "      <td>...</td>\n",
              "    </tr>\n",
              "    <tr>\n",
              "      <th rowspan=\"5\" valign=\"top\">R02125</th>\n",
              "      <th>Maanantai</th>\n",
              "      <th>274</th>\n",
              "      <td>2</td>\n",
              "      <td>2</td>\n",
              "      <td>2</td>\n",
              "      <td>2</td>\n",
              "      <td>2</td>\n",
              "    </tr>\n",
              "    <tr>\n",
              "      <th rowspan=\"2\" valign=\"top\">Sunnuntai</th>\n",
              "      <th>265</th>\n",
              "      <td>2</td>\n",
              "      <td>2</td>\n",
              "      <td>2</td>\n",
              "      <td>2</td>\n",
              "      <td>2</td>\n",
              "    </tr>\n",
              "    <tr>\n",
              "      <th>276</th>\n",
              "      <td>2</td>\n",
              "      <td>2</td>\n",
              "      <td>2</td>\n",
              "      <td>2</td>\n",
              "      <td>2</td>\n",
              "    </tr>\n",
              "    <tr>\n",
              "      <th rowspan=\"2\" valign=\"top\">Tiistai</th>\n",
              "      <th>45</th>\n",
              "      <td>1</td>\n",
              "      <td>1</td>\n",
              "      <td>1</td>\n",
              "      <td>1</td>\n",
              "      <td>1</td>\n",
              "    </tr>\n",
              "    <tr>\n",
              "      <th>276</th>\n",
              "      <td>1</td>\n",
              "      <td>1</td>\n",
              "      <td>1</td>\n",
              "      <td>1</td>\n",
              "      <td>1</td>\n",
              "    </tr>\n",
              "  </tbody>\n",
              "</table>\n",
              "<p>95238 rows × 5 columns</p>\n",
              "</div>\n",
              "    <div class=\"colab-df-buttons\">\n",
              "\n",
              "  <div class=\"colab-df-container\">\n",
              "    <button class=\"colab-df-convert\" onclick=\"convertToInteractive('df-e848a0ed-9f43-4fa5-baca-d9234803d161')\"\n",
              "            title=\"Convert this dataframe to an interactive table.\"\n",
              "            style=\"display:none;\">\n",
              "\n",
              "  <svg xmlns=\"http://www.w3.org/2000/svg\" height=\"24px\" viewBox=\"0 -960 960 960\">\n",
              "    <path d=\"M120-120v-720h720v720H120Zm60-500h600v-160H180v160Zm220 220h160v-160H400v160Zm0 220h160v-160H400v160ZM180-400h160v-160H180v160Zm440 0h160v-160H620v160ZM180-180h160v-160H180v160Zm440 0h160v-160H620v160Z\"/>\n",
              "  </svg>\n",
              "    </button>\n",
              "\n",
              "  <style>\n",
              "    .colab-df-container {\n",
              "      display:flex;\n",
              "      gap: 12px;\n",
              "    }\n",
              "\n",
              "    .colab-df-convert {\n",
              "      background-color: #E8F0FE;\n",
              "      border: none;\n",
              "      border-radius: 50%;\n",
              "      cursor: pointer;\n",
              "      display: none;\n",
              "      fill: #1967D2;\n",
              "      height: 32px;\n",
              "      padding: 0 0 0 0;\n",
              "      width: 32px;\n",
              "    }\n",
              "\n",
              "    .colab-df-convert:hover {\n",
              "      background-color: #E2EBFA;\n",
              "      box-shadow: 0px 1px 2px rgba(60, 64, 67, 0.3), 0px 1px 3px 1px rgba(60, 64, 67, 0.15);\n",
              "      fill: #174EA6;\n",
              "    }\n",
              "\n",
              "    .colab-df-buttons div {\n",
              "      margin-bottom: 4px;\n",
              "    }\n",
              "\n",
              "    [theme=dark] .colab-df-convert {\n",
              "      background-color: #3B4455;\n",
              "      fill: #D2E3FC;\n",
              "    }\n",
              "\n",
              "    [theme=dark] .colab-df-convert:hover {\n",
              "      background-color: #434B5C;\n",
              "      box-shadow: 0px 1px 3px 1px rgba(0, 0, 0, 0.15);\n",
              "      filter: drop-shadow(0px 1px 2px rgba(0, 0, 0, 0.3));\n",
              "      fill: #FFFFFF;\n",
              "    }\n",
              "  </style>\n",
              "\n",
              "    <script>\n",
              "      const buttonEl =\n",
              "        document.querySelector('#df-e848a0ed-9f43-4fa5-baca-d9234803d161 button.colab-df-convert');\n",
              "      buttonEl.style.display =\n",
              "        google.colab.kernel.accessAllowed ? 'block' : 'none';\n",
              "\n",
              "      async function convertToInteractive(key) {\n",
              "        const element = document.querySelector('#df-e848a0ed-9f43-4fa5-baca-d9234803d161');\n",
              "        const dataTable =\n",
              "          await google.colab.kernel.invokeFunction('convertToInteractive',\n",
              "                                                    [key], {});\n",
              "        if (!dataTable) return;\n",
              "\n",
              "        const docLinkHtml = 'Like what you see? Visit the ' +\n",
              "          '<a target=\"_blank\" href=https://colab.research.google.com/notebooks/data_table.ipynb>data table notebook</a>'\n",
              "          + ' to learn more about interactive tables.';\n",
              "        element.innerHTML = '';\n",
              "        dataTable['output_type'] = 'display_data';\n",
              "        await google.colab.output.renderOutput(dataTable, element);\n",
              "        const docLink = document.createElement('div');\n",
              "        docLink.innerHTML = docLinkHtml;\n",
              "        element.appendChild(docLink);\n",
              "      }\n",
              "    </script>\n",
              "  </div>\n",
              "\n",
              "\n",
              "<div id=\"df-1c025307-88e0-4a73-a90e-a76b01b3c906\">\n",
              "  <button class=\"colab-df-quickchart\" onclick=\"quickchart('df-1c025307-88e0-4a73-a90e-a76b01b3c906')\"\n",
              "            title=\"Suggest charts.\"\n",
              "            style=\"display:none;\">\n",
              "\n",
              "<svg xmlns=\"http://www.w3.org/2000/svg\" height=\"24px\"viewBox=\"0 0 24 24\"\n",
              "     width=\"24px\">\n",
              "    <g>\n",
              "        <path d=\"M19 3H5c-1.1 0-2 .9-2 2v14c0 1.1.9 2 2 2h14c1.1 0 2-.9 2-2V5c0-1.1-.9-2-2-2zM9 17H7v-7h2v7zm4 0h-2V7h2v10zm4 0h-2v-4h2v4z\"/>\n",
              "    </g>\n",
              "</svg>\n",
              "  </button>\n",
              "\n",
              "<style>\n",
              "  .colab-df-quickchart {\n",
              "    background-color: #E8F0FE;\n",
              "    border: none;\n",
              "    border-radius: 50%;\n",
              "    cursor: pointer;\n",
              "    display: none;\n",
              "    fill: #1967D2;\n",
              "    height: 32px;\n",
              "    padding: 0 0 0 0;\n",
              "    width: 32px;\n",
              "  }\n",
              "\n",
              "  .colab-df-quickchart:hover {\n",
              "    background-color: #E2EBFA;\n",
              "    box-shadow: 0px 1px 2px rgba(60, 64, 67, 0.3), 0px 1px 3px 1px rgba(60, 64, 67, 0.15);\n",
              "    fill: #174EA6;\n",
              "  }\n",
              "\n",
              "  [theme=dark] .colab-df-quickchart {\n",
              "    background-color: #3B4455;\n",
              "    fill: #D2E3FC;\n",
              "  }\n",
              "\n",
              "  [theme=dark] .colab-df-quickchart:hover {\n",
              "    background-color: #434B5C;\n",
              "    box-shadow: 0px 1px 3px 1px rgba(0, 0, 0, 0.15);\n",
              "    filter: drop-shadow(0px 1px 2px rgba(0, 0, 0, 0.3));\n",
              "    fill: #FFFFFF;\n",
              "  }\n",
              "</style>\n",
              "\n",
              "  <script>\n",
              "    async function quickchart(key) {\n",
              "      const charts = await google.colab.kernel.invokeFunction(\n",
              "          'suggestCharts', [key], {});\n",
              "    }\n",
              "    (() => {\n",
              "      let quickchartButtonEl =\n",
              "        document.querySelector('#df-1c025307-88e0-4a73-a90e-a76b01b3c906 button');\n",
              "      quickchartButtonEl.style.display =\n",
              "        google.colab.kernel.accessAllowed ? 'block' : 'none';\n",
              "    })();\n",
              "  </script>\n",
              "</div>\n",
              "    </div>\n",
              "  </div>\n"
            ]
          },
          "metadata": {},
          "execution_count": 16
        }
      ],
      "source": [
        "df.groupby([\"Nimikkeen nro\", \"Päivän nimi\", \"Linjakoodi\"]).count()"
      ]
    },
    {
      "cell_type": "code",
      "execution_count": null,
      "metadata": {
        "id": "pK1eIFM-nVZK",
        "colab": {
          "base_uri": "https://localhost:8080/"
        },
        "outputId": "90ae9f82-056a-4d1c-cc7c-2f0b98019bbc"
      },
      "outputs": [
        {
          "output_type": "stream",
          "name": "stderr",
          "text": [
            "<ipython-input-17-585034dd096e>:10: FutureWarning: Not prepending group keys to the result index of transform-like apply. In the future, the group keys will be included in the index, regardless of whether the applied function returns a like-indexed object.\n",
            "To preserve the previous behavior, use\n",
            "\n",
            "\t>>> .groupby(..., group_keys=False)\n",
            "\n",
            "To adopt the future behavior and silence this warning, use \n",
            "\n",
            "\t>>> .groupby(..., group_keys=True)\n",
            "  [\"Nimikkeen nro\", \"Päivän nimi\", \"Linjakoodi\"]).apply(replace_with_robust_zscore)\n"
          ]
        }
      ],
      "source": [
        "def replace_with_robust_zscore(df):\n",
        "  median = df[\"Määrä\"].median()\n",
        "  mad = np.median(np.abs(df[\"Määrä\"] - median))\n",
        "  z_score = 0.6745 * (df[\"Määrä\"] - median) / mad\n",
        "  df[\"Määrä\"] = np.where(np.abs(z_score) > 3, median, df[\"Määrä\"])\n",
        "  return df\n",
        "\n",
        "\n",
        "df = df.groupby(\n",
        "    [\"Nimikkeen nro\", \"Päivän nimi\", \"Linjakoodi\"]).apply(replace_with_robust_zscore)"
      ]
    },
    {
      "cell_type": "code",
      "execution_count": null,
      "metadata": {
        "id": "2bas4N4enVb2",
        "colab": {
          "base_uri": "https://localhost:8080/",
          "height": 206
        },
        "outputId": "2df766ff-445a-4b05-a29e-b1f438e16f1c"
      },
      "outputs": [
        {
          "output_type": "execute_result",
          "data": {
            "text/plain": [
              "  Kirjauspvm.  Linjakoodi  Päivän nimi  Varaukset Nimikkeen nro  \\\n",
              "0  2023-07-12         274  Keskiviikko      263.0        R02038   \n",
              "1  2023-07-12         274  Keskiviikko      263.0        R00481   \n",
              "2  2023-07-12         274  Keskiviikko      263.0        R00339   \n",
              "3  2023-07-12         274  Keskiviikko      263.0        R00025   \n",
              "4  2023-07-12         274  Keskiviikko      263.0        R00001   \n",
              "\n",
              "                     Kuvaus  Määrä Perusmittayksikkö  \n",
              "0  Juustoreissari itsetehty    3.0               KPL  \n",
              "1                 Kahvi iso   14.0               KPL  \n",
              "2               Vesi kuuma     1.0               KPL  \n",
              "3                    Kahvi    43.0               KPL  \n",
              "4              Santsikahvi     4.0               KPL  "
            ],
            "text/html": [
              "\n",
              "  <div id=\"df-952c261f-318a-4a89-8d69-6fa9536584da\" class=\"colab-df-container\">\n",
              "    <div>\n",
              "<style scoped>\n",
              "    .dataframe tbody tr th:only-of-type {\n",
              "        vertical-align: middle;\n",
              "    }\n",
              "\n",
              "    .dataframe tbody tr th {\n",
              "        vertical-align: top;\n",
              "    }\n",
              "\n",
              "    .dataframe thead th {\n",
              "        text-align: right;\n",
              "    }\n",
              "</style>\n",
              "<table border=\"1\" class=\"dataframe\">\n",
              "  <thead>\n",
              "    <tr style=\"text-align: right;\">\n",
              "      <th></th>\n",
              "      <th>Kirjauspvm.</th>\n",
              "      <th>Linjakoodi</th>\n",
              "      <th>Päivän nimi</th>\n",
              "      <th>Varaukset</th>\n",
              "      <th>Nimikkeen nro</th>\n",
              "      <th>Kuvaus</th>\n",
              "      <th>Määrä</th>\n",
              "      <th>Perusmittayksikkö</th>\n",
              "    </tr>\n",
              "  </thead>\n",
              "  <tbody>\n",
              "    <tr>\n",
              "      <th>0</th>\n",
              "      <td>2023-07-12</td>\n",
              "      <td>274</td>\n",
              "      <td>Keskiviikko</td>\n",
              "      <td>263.0</td>\n",
              "      <td>R02038</td>\n",
              "      <td>Juustoreissari itsetehty</td>\n",
              "      <td>3.0</td>\n",
              "      <td>KPL</td>\n",
              "    </tr>\n",
              "    <tr>\n",
              "      <th>1</th>\n",
              "      <td>2023-07-12</td>\n",
              "      <td>274</td>\n",
              "      <td>Keskiviikko</td>\n",
              "      <td>263.0</td>\n",
              "      <td>R00481</td>\n",
              "      <td>Kahvi iso</td>\n",
              "      <td>14.0</td>\n",
              "      <td>KPL</td>\n",
              "    </tr>\n",
              "    <tr>\n",
              "      <th>2</th>\n",
              "      <td>2023-07-12</td>\n",
              "      <td>274</td>\n",
              "      <td>Keskiviikko</td>\n",
              "      <td>263.0</td>\n",
              "      <td>R00339</td>\n",
              "      <td>Vesi kuuma</td>\n",
              "      <td>1.0</td>\n",
              "      <td>KPL</td>\n",
              "    </tr>\n",
              "    <tr>\n",
              "      <th>3</th>\n",
              "      <td>2023-07-12</td>\n",
              "      <td>274</td>\n",
              "      <td>Keskiviikko</td>\n",
              "      <td>263.0</td>\n",
              "      <td>R00025</td>\n",
              "      <td>Kahvi</td>\n",
              "      <td>43.0</td>\n",
              "      <td>KPL</td>\n",
              "    </tr>\n",
              "    <tr>\n",
              "      <th>4</th>\n",
              "      <td>2023-07-12</td>\n",
              "      <td>274</td>\n",
              "      <td>Keskiviikko</td>\n",
              "      <td>263.0</td>\n",
              "      <td>R00001</td>\n",
              "      <td>Santsikahvi</td>\n",
              "      <td>4.0</td>\n",
              "      <td>KPL</td>\n",
              "    </tr>\n",
              "  </tbody>\n",
              "</table>\n",
              "</div>\n",
              "    <div class=\"colab-df-buttons\">\n",
              "\n",
              "  <div class=\"colab-df-container\">\n",
              "    <button class=\"colab-df-convert\" onclick=\"convertToInteractive('df-952c261f-318a-4a89-8d69-6fa9536584da')\"\n",
              "            title=\"Convert this dataframe to an interactive table.\"\n",
              "            style=\"display:none;\">\n",
              "\n",
              "  <svg xmlns=\"http://www.w3.org/2000/svg\" height=\"24px\" viewBox=\"0 -960 960 960\">\n",
              "    <path d=\"M120-120v-720h720v720H120Zm60-500h600v-160H180v160Zm220 220h160v-160H400v160Zm0 220h160v-160H400v160ZM180-400h160v-160H180v160Zm440 0h160v-160H620v160ZM180-180h160v-160H180v160Zm440 0h160v-160H620v160Z\"/>\n",
              "  </svg>\n",
              "    </button>\n",
              "\n",
              "  <style>\n",
              "    .colab-df-container {\n",
              "      display:flex;\n",
              "      gap: 12px;\n",
              "    }\n",
              "\n",
              "    .colab-df-convert {\n",
              "      background-color: #E8F0FE;\n",
              "      border: none;\n",
              "      border-radius: 50%;\n",
              "      cursor: pointer;\n",
              "      display: none;\n",
              "      fill: #1967D2;\n",
              "      height: 32px;\n",
              "      padding: 0 0 0 0;\n",
              "      width: 32px;\n",
              "    }\n",
              "\n",
              "    .colab-df-convert:hover {\n",
              "      background-color: #E2EBFA;\n",
              "      box-shadow: 0px 1px 2px rgba(60, 64, 67, 0.3), 0px 1px 3px 1px rgba(60, 64, 67, 0.15);\n",
              "      fill: #174EA6;\n",
              "    }\n",
              "\n",
              "    .colab-df-buttons div {\n",
              "      margin-bottom: 4px;\n",
              "    }\n",
              "\n",
              "    [theme=dark] .colab-df-convert {\n",
              "      background-color: #3B4455;\n",
              "      fill: #D2E3FC;\n",
              "    }\n",
              "\n",
              "    [theme=dark] .colab-df-convert:hover {\n",
              "      background-color: #434B5C;\n",
              "      box-shadow: 0px 1px 3px 1px rgba(0, 0, 0, 0.15);\n",
              "      filter: drop-shadow(0px 1px 2px rgba(0, 0, 0, 0.3));\n",
              "      fill: #FFFFFF;\n",
              "    }\n",
              "  </style>\n",
              "\n",
              "    <script>\n",
              "      const buttonEl =\n",
              "        document.querySelector('#df-952c261f-318a-4a89-8d69-6fa9536584da button.colab-df-convert');\n",
              "      buttonEl.style.display =\n",
              "        google.colab.kernel.accessAllowed ? 'block' : 'none';\n",
              "\n",
              "      async function convertToInteractive(key) {\n",
              "        const element = document.querySelector('#df-952c261f-318a-4a89-8d69-6fa9536584da');\n",
              "        const dataTable =\n",
              "          await google.colab.kernel.invokeFunction('convertToInteractive',\n",
              "                                                    [key], {});\n",
              "        if (!dataTable) return;\n",
              "\n",
              "        const docLinkHtml = 'Like what you see? Visit the ' +\n",
              "          '<a target=\"_blank\" href=https://colab.research.google.com/notebooks/data_table.ipynb>data table notebook</a>'\n",
              "          + ' to learn more about interactive tables.';\n",
              "        element.innerHTML = '';\n",
              "        dataTable['output_type'] = 'display_data';\n",
              "        await google.colab.output.renderOutput(dataTable, element);\n",
              "        const docLink = document.createElement('div');\n",
              "        docLink.innerHTML = docLinkHtml;\n",
              "        element.appendChild(docLink);\n",
              "      }\n",
              "    </script>\n",
              "  </div>\n",
              "\n",
              "\n",
              "<div id=\"df-c86d32ea-1be4-47cb-bb0a-1e557cd0e1f9\">\n",
              "  <button class=\"colab-df-quickchart\" onclick=\"quickchart('df-c86d32ea-1be4-47cb-bb0a-1e557cd0e1f9')\"\n",
              "            title=\"Suggest charts.\"\n",
              "            style=\"display:none;\">\n",
              "\n",
              "<svg xmlns=\"http://www.w3.org/2000/svg\" height=\"24px\"viewBox=\"0 0 24 24\"\n",
              "     width=\"24px\">\n",
              "    <g>\n",
              "        <path d=\"M19 3H5c-1.1 0-2 .9-2 2v14c0 1.1.9 2 2 2h14c1.1 0 2-.9 2-2V5c0-1.1-.9-2-2-2zM9 17H7v-7h2v7zm4 0h-2V7h2v10zm4 0h-2v-4h2v4z\"/>\n",
              "    </g>\n",
              "</svg>\n",
              "  </button>\n",
              "\n",
              "<style>\n",
              "  .colab-df-quickchart {\n",
              "    background-color: #E8F0FE;\n",
              "    border: none;\n",
              "    border-radius: 50%;\n",
              "    cursor: pointer;\n",
              "    display: none;\n",
              "    fill: #1967D2;\n",
              "    height: 32px;\n",
              "    padding: 0 0 0 0;\n",
              "    width: 32px;\n",
              "  }\n",
              "\n",
              "  .colab-df-quickchart:hover {\n",
              "    background-color: #E2EBFA;\n",
              "    box-shadow: 0px 1px 2px rgba(60, 64, 67, 0.3), 0px 1px 3px 1px rgba(60, 64, 67, 0.15);\n",
              "    fill: #174EA6;\n",
              "  }\n",
              "\n",
              "  [theme=dark] .colab-df-quickchart {\n",
              "    background-color: #3B4455;\n",
              "    fill: #D2E3FC;\n",
              "  }\n",
              "\n",
              "  [theme=dark] .colab-df-quickchart:hover {\n",
              "    background-color: #434B5C;\n",
              "    box-shadow: 0px 1px 3px 1px rgba(0, 0, 0, 0.15);\n",
              "    filter: drop-shadow(0px 1px 2px rgba(0, 0, 0, 0.3));\n",
              "    fill: #FFFFFF;\n",
              "  }\n",
              "</style>\n",
              "\n",
              "  <script>\n",
              "    async function quickchart(key) {\n",
              "      const charts = await google.colab.kernel.invokeFunction(\n",
              "          'suggestCharts', [key], {});\n",
              "    }\n",
              "    (() => {\n",
              "      let quickchartButtonEl =\n",
              "        document.querySelector('#df-c86d32ea-1be4-47cb-bb0a-1e557cd0e1f9 button');\n",
              "      quickchartButtonEl.style.display =\n",
              "        google.colab.kernel.accessAllowed ? 'block' : 'none';\n",
              "    })();\n",
              "  </script>\n",
              "</div>\n",
              "    </div>\n",
              "  </div>\n"
            ]
          },
          "metadata": {},
          "execution_count": 18
        }
      ],
      "source": [
        "df.head()"
      ]
    },
    {
      "cell_type": "code",
      "execution_count": null,
      "metadata": {
        "id": "9esqKSecn04f"
      },
      "outputs": [],
      "source": [
        "from sklearn.preprocessing import LabelEncoder"
      ]
    },
    {
      "cell_type": "code",
      "execution_count": null,
      "metadata": {
        "id": "zr-5jCcFn06w"
      },
      "outputs": [],
      "source": [
        "le = LabelEncoder()"
      ]
    },
    {
      "cell_type": "code",
      "execution_count": null,
      "metadata": {
        "id": "-P2jJwBin09T"
      },
      "outputs": [],
      "source": [
        "df[\"Päivän nimi\"] = le.fit_transform(df[\"Päivän nimi\"])\n",
        "df[\"Nimikkeen nro\"] = le.fit_transform(df[\"Nimikkeen nro\"])"
      ]
    },
    {
      "cell_type": "code",
      "execution_count": null,
      "metadata": {
        "id": "RbUkw6Ufn0_u",
        "colab": {
          "base_uri": "https://localhost:8080/"
        },
        "outputId": "0d373715-a020-46f1-e5d9-17eb801691da"
      },
      "outputs": [
        {
          "output_type": "stream",
          "name": "stderr",
          "text": [
            "<ipython-input-22-90449da22c50>:1: FutureWarning: The default value of numeric_only in DataFrame.corr is deprecated. In a future version, it will default to False. Select only valid columns or specify the value of numeric_only to silence this warning.\n",
            "  df.corr()[\"Määrä\"].sort_values()\n"
          ]
        },
        {
          "output_type": "execute_result",
          "data": {
            "text/plain": [
              "Linjakoodi      -0.108952\n",
              "Päivän nimi      0.008871\n",
              "Nimikkeen nro    0.089826\n",
              "Varaukset        0.204710\n",
              "Määrä            1.000000\n",
              "Name: Määrä, dtype: float64"
            ]
          },
          "metadata": {},
          "execution_count": 22
        }
      ],
      "source": [
        "df.corr()[\"Määrä\"].sort_values()"
      ]
    },
    {
      "cell_type": "code",
      "execution_count": null,
      "metadata": {
        "id": "_z-6jalin1CQ"
      },
      "outputs": [],
      "source": [
        "plt.figure(figsize=(8, 8), dpi=100)\n",
        "sns.heatmap(df.corr(), annot=True, cmap=\"viridis\")"
      ]
    },
    {
      "cell_type": "markdown",
      "source": [
        "# Train | Test & Holdout Sets"
      ],
      "metadata": {
        "id": "Zd9W2rckv-bc"
      }
    },
    {
      "cell_type": "code",
      "source": [
        "X = df.drop([\"Määrä\", \"Perusmittayksikkö\",  \"Kuvaus\", \"Kirjauspvm.\"], axis=1 )\n",
        "y = df[\"Määrä\"]"
      ],
      "metadata": {
        "id": "qpfCexgk1rn4"
      },
      "execution_count": null,
      "outputs": []
    },
    {
      "cell_type": "code",
      "execution_count": null,
      "metadata": {
        "id": "uJX_g_LXn1Hc"
      },
      "outputs": [],
      "source": [
        "from sklearn.model_selection import train_test_split"
      ]
    },
    {
      "cell_type": "code",
      "execution_count": null,
      "metadata": {
        "id": "BrMyFEQqn1Jm"
      },
      "outputs": [],
      "source": [
        "X_train, X_test, y_train, y_test = train_test_split(X, y, test_size=0.30, random_state=101) # Initial split"
      ]
    },
    {
      "cell_type": "code",
      "source": [
        "X_validation, X_holdout_test, y_validation, y_holdout_test = train_test_split(X_test, y_test, test_size=0.5, random_state=101) # Holdout set"
      ],
      "metadata": {
        "id": "MQQGkSeixlHi"
      },
      "execution_count": null,
      "outputs": []
    },
    {
      "cell_type": "markdown",
      "source": [
        "# Model training and hyperparameter tuning"
      ],
      "metadata": {
        "id": "FrIZ6SAWx36F"
      }
    },
    {
      "cell_type": "code",
      "execution_count": null,
      "metadata": {
        "id": "btt1eusgn1L7"
      },
      "outputs": [],
      "source": [
        "from sklearn.ensemble import RandomForestRegressor\n",
        "from sklearn.model_selection import RandomizedSearchCV"
      ]
    },
    {
      "cell_type": "code",
      "source": [
        "param_distributions = {\n",
        "    \"n_estimators\": [10, 50, 100, 200, 500, 1000],\n",
        "    \"max_features\": [\"auto\", \"sqrt\", \"log2\"],\n",
        "    \"max_depth\": [None] + list(np.arange(5, 51, 5)),\n",
        "    \"min_samples_split\": [2, 5, 10, 15],\n",
        "    \"min_samples_leaf\": [1, 2, 4, 6],\n",
        "    \"bootstrap\": [True, False]\n",
        "}"
      ],
      "metadata": {
        "id": "45dcj3MNykQn"
      },
      "execution_count": null,
      "outputs": []
    },
    {
      "cell_type": "code",
      "source": [
        "n_iter_search = 100  # number of iterations for random search"
      ],
      "metadata": {
        "id": "3dz9M-saykN9"
      },
      "execution_count": null,
      "outputs": []
    },
    {
      "cell_type": "code",
      "source": [
        "random_forest = RandomForestRegressor()"
      ],
      "metadata": {
        "id": "GQtaHRaqykLH"
      },
      "execution_count": null,
      "outputs": []
    },
    {
      "cell_type": "code",
      "source": [
        "random_search = RandomizedSearchCV(\n",
        "    random_forest,\n",
        "    param_distributions=param_distributions,\n",
        "    n_iter=n_iter_search,\n",
        "    cv=3,\n",
        "    n_jobs=-1,\n",
        "    verbose=2,\n",
        "    scoring=\"neg_mean_squared_error\",\n",
        "    random_state=42\n",
        "    )"
      ],
      "metadata": {
        "id": "ewFGusi4ykG-"
      },
      "execution_count": null,
      "outputs": []
    },
    {
      "cell_type": "code",
      "source": [
        "random_search.fit(X_train, y_train)"
      ],
      "metadata": {
        "id": "SvL3X7roykBj",
        "colab": {
          "base_uri": "https://localhost:8080/",
          "height": 224
        },
        "outputId": "f286aab8-5e10-4d30-b55d-18f3b72c0ced"
      },
      "execution_count": null,
      "outputs": [
        {
          "output_type": "stream",
          "name": "stdout",
          "text": [
            "Fitting 3 folds for each of 100 candidates, totalling 300 fits\n"
          ]
        },
        {
          "output_type": "stream",
          "name": "stderr",
          "text": [
            "/usr/local/lib/python3.10/dist-packages/joblib/externals/loky/process_executor.py:752: UserWarning: A worker stopped while some jobs were given to the executor. This can be caused by a too short worker timeout or by a memory leak.\n",
            "  warnings.warn(\n",
            "/usr/local/lib/python3.10/dist-packages/sklearn/ensemble/_forest.py:413: FutureWarning: `max_features='auto'` has been deprecated in 1.1 and will be removed in 1.3. To keep the past behaviour, explicitly set `max_features=1.0` or remove this parameter as it is also the default value for RandomForestRegressors and ExtraTreesRegressors.\n",
            "  warn(\n"
          ]
        },
        {
          "output_type": "execute_result",
          "data": {
            "text/plain": [
              "RandomizedSearchCV(cv=3, estimator=RandomForestRegressor(), n_iter=100,\n",
              "                   n_jobs=-1,\n",
              "                   param_distributions={'bootstrap': [True, False],\n",
              "                                        'max_depth': [None, 5, 10, 15, 20, 25,\n",
              "                                                      30, 35, 40, 45, 50],\n",
              "                                        'max_features': ['auto', 'sqrt',\n",
              "                                                         'log2'],\n",
              "                                        'min_samples_leaf': [1, 2, 4, 6],\n",
              "                                        'min_samples_split': [2, 5, 10, 15],\n",
              "                                        'n_estimators': [10, 50, 100, 200, 500,\n",
              "                                                         1000]},\n",
              "                   random_state=42, scoring='neg_mean_squared_error',\n",
              "                   verbose=2)"
            ],
            "text/html": [
              "<style>#sk-container-id-1 {color: black;background-color: white;}#sk-container-id-1 pre{padding: 0;}#sk-container-id-1 div.sk-toggleable {background-color: white;}#sk-container-id-1 label.sk-toggleable__label {cursor: pointer;display: block;width: 100%;margin-bottom: 0;padding: 0.3em;box-sizing: border-box;text-align: center;}#sk-container-id-1 label.sk-toggleable__label-arrow:before {content: \"▸\";float: left;margin-right: 0.25em;color: #696969;}#sk-container-id-1 label.sk-toggleable__label-arrow:hover:before {color: black;}#sk-container-id-1 div.sk-estimator:hover label.sk-toggleable__label-arrow:before {color: black;}#sk-container-id-1 div.sk-toggleable__content {max-height: 0;max-width: 0;overflow: hidden;text-align: left;background-color: #f0f8ff;}#sk-container-id-1 div.sk-toggleable__content pre {margin: 0.2em;color: black;border-radius: 0.25em;background-color: #f0f8ff;}#sk-container-id-1 input.sk-toggleable__control:checked~div.sk-toggleable__content {max-height: 200px;max-width: 100%;overflow: auto;}#sk-container-id-1 input.sk-toggleable__control:checked~label.sk-toggleable__label-arrow:before {content: \"▾\";}#sk-container-id-1 div.sk-estimator input.sk-toggleable__control:checked~label.sk-toggleable__label {background-color: #d4ebff;}#sk-container-id-1 div.sk-label input.sk-toggleable__control:checked~label.sk-toggleable__label {background-color: #d4ebff;}#sk-container-id-1 input.sk-hidden--visually {border: 0;clip: rect(1px 1px 1px 1px);clip: rect(1px, 1px, 1px, 1px);height: 1px;margin: -1px;overflow: hidden;padding: 0;position: absolute;width: 1px;}#sk-container-id-1 div.sk-estimator {font-family: monospace;background-color: #f0f8ff;border: 1px dotted black;border-radius: 0.25em;box-sizing: border-box;margin-bottom: 0.5em;}#sk-container-id-1 div.sk-estimator:hover {background-color: #d4ebff;}#sk-container-id-1 div.sk-parallel-item::after {content: \"\";width: 100%;border-bottom: 1px solid gray;flex-grow: 1;}#sk-container-id-1 div.sk-label:hover label.sk-toggleable__label {background-color: #d4ebff;}#sk-container-id-1 div.sk-serial::before {content: \"\";position: absolute;border-left: 1px solid gray;box-sizing: border-box;top: 0;bottom: 0;left: 50%;z-index: 0;}#sk-container-id-1 div.sk-serial {display: flex;flex-direction: column;align-items: center;background-color: white;padding-right: 0.2em;padding-left: 0.2em;position: relative;}#sk-container-id-1 div.sk-item {position: relative;z-index: 1;}#sk-container-id-1 div.sk-parallel {display: flex;align-items: stretch;justify-content: center;background-color: white;position: relative;}#sk-container-id-1 div.sk-item::before, #sk-container-id-1 div.sk-parallel-item::before {content: \"\";position: absolute;border-left: 1px solid gray;box-sizing: border-box;top: 0;bottom: 0;left: 50%;z-index: -1;}#sk-container-id-1 div.sk-parallel-item {display: flex;flex-direction: column;z-index: 1;position: relative;background-color: white;}#sk-container-id-1 div.sk-parallel-item:first-child::after {align-self: flex-end;width: 50%;}#sk-container-id-1 div.sk-parallel-item:last-child::after {align-self: flex-start;width: 50%;}#sk-container-id-1 div.sk-parallel-item:only-child::after {width: 0;}#sk-container-id-1 div.sk-dashed-wrapped {border: 1px dashed gray;margin: 0 0.4em 0.5em 0.4em;box-sizing: border-box;padding-bottom: 0.4em;background-color: white;}#sk-container-id-1 div.sk-label label {font-family: monospace;font-weight: bold;display: inline-block;line-height: 1.2em;}#sk-container-id-1 div.sk-label-container {text-align: center;}#sk-container-id-1 div.sk-container {/* jupyter's `normalize.less` sets `[hidden] { display: none; }` but bootstrap.min.css set `[hidden] { display: none !important; }` so we also need the `!important` here to be able to override the default hidden behavior on the sphinx rendered scikit-learn.org. See: https://github.com/scikit-learn/scikit-learn/issues/21755 */display: inline-block !important;position: relative;}#sk-container-id-1 div.sk-text-repr-fallback {display: none;}</style><div id=\"sk-container-id-1\" class=\"sk-top-container\"><div class=\"sk-text-repr-fallback\"><pre>RandomizedSearchCV(cv=3, estimator=RandomForestRegressor(), n_iter=100,\n",
              "                   n_jobs=-1,\n",
              "                   param_distributions={&#x27;bootstrap&#x27;: [True, False],\n",
              "                                        &#x27;max_depth&#x27;: [None, 5, 10, 15, 20, 25,\n",
              "                                                      30, 35, 40, 45, 50],\n",
              "                                        &#x27;max_features&#x27;: [&#x27;auto&#x27;, &#x27;sqrt&#x27;,\n",
              "                                                         &#x27;log2&#x27;],\n",
              "                                        &#x27;min_samples_leaf&#x27;: [1, 2, 4, 6],\n",
              "                                        &#x27;min_samples_split&#x27;: [2, 5, 10, 15],\n",
              "                                        &#x27;n_estimators&#x27;: [10, 50, 100, 200, 500,\n",
              "                                                         1000]},\n",
              "                   random_state=42, scoring=&#x27;neg_mean_squared_error&#x27;,\n",
              "                   verbose=2)</pre><b>In a Jupyter environment, please rerun this cell to show the HTML representation or trust the notebook. <br />On GitHub, the HTML representation is unable to render, please try loading this page with nbviewer.org.</b></div><div class=\"sk-container\" hidden><div class=\"sk-item sk-dashed-wrapped\"><div class=\"sk-label-container\"><div class=\"sk-label sk-toggleable\"><input class=\"sk-toggleable__control sk-hidden--visually\" id=\"sk-estimator-id-1\" type=\"checkbox\" ><label for=\"sk-estimator-id-1\" class=\"sk-toggleable__label sk-toggleable__label-arrow\">RandomizedSearchCV</label><div class=\"sk-toggleable__content\"><pre>RandomizedSearchCV(cv=3, estimator=RandomForestRegressor(), n_iter=100,\n",
              "                   n_jobs=-1,\n",
              "                   param_distributions={&#x27;bootstrap&#x27;: [True, False],\n",
              "                                        &#x27;max_depth&#x27;: [None, 5, 10, 15, 20, 25,\n",
              "                                                      30, 35, 40, 45, 50],\n",
              "                                        &#x27;max_features&#x27;: [&#x27;auto&#x27;, &#x27;sqrt&#x27;,\n",
              "                                                         &#x27;log2&#x27;],\n",
              "                                        &#x27;min_samples_leaf&#x27;: [1, 2, 4, 6],\n",
              "                                        &#x27;min_samples_split&#x27;: [2, 5, 10, 15],\n",
              "                                        &#x27;n_estimators&#x27;: [10, 50, 100, 200, 500,\n",
              "                                                         1000]},\n",
              "                   random_state=42, scoring=&#x27;neg_mean_squared_error&#x27;,\n",
              "                   verbose=2)</pre></div></div></div><div class=\"sk-parallel\"><div class=\"sk-parallel-item\"><div class=\"sk-item\"><div class=\"sk-label-container\"><div class=\"sk-label sk-toggleable\"><input class=\"sk-toggleable__control sk-hidden--visually\" id=\"sk-estimator-id-2\" type=\"checkbox\" ><label for=\"sk-estimator-id-2\" class=\"sk-toggleable__label sk-toggleable__label-arrow\">estimator: RandomForestRegressor</label><div class=\"sk-toggleable__content\"><pre>RandomForestRegressor()</pre></div></div></div><div class=\"sk-serial\"><div class=\"sk-item\"><div class=\"sk-estimator sk-toggleable\"><input class=\"sk-toggleable__control sk-hidden--visually\" id=\"sk-estimator-id-3\" type=\"checkbox\" ><label for=\"sk-estimator-id-3\" class=\"sk-toggleable__label sk-toggleable__label-arrow\">RandomForestRegressor</label><div class=\"sk-toggleable__content\"><pre>RandomForestRegressor()</pre></div></div></div></div></div></div></div></div></div></div>"
            ]
          },
          "metadata": {},
          "execution_count": 33
        }
      ]
    },
    {
      "cell_type": "code",
      "source": [
        "random_search.best_params_\n",
        "# {'n_estimators': 1000,\n",
        "#  'min_samples_split': 15,\n",
        "#  'min_samples_leaf': 1,\n",
        "#  'max_features': 'auto',\n",
        "#  'max_depth': None,\n",
        "#  'bootstrap': True}"
      ],
      "metadata": {
        "id": "N_PbqqXPyzto",
        "colab": {
          "base_uri": "https://localhost:8080/"
        },
        "outputId": "b87e9926-bc44-4dc4-c2fc-1b4465e5ce73"
      },
      "execution_count": null,
      "outputs": [
        {
          "output_type": "execute_result",
          "data": {
            "text/plain": [
              "{'n_estimators': 1000,\n",
              " 'min_samples_split': 15,\n",
              " 'min_samples_leaf': 1,\n",
              " 'max_features': 'auto',\n",
              " 'max_depth': None,\n",
              " 'bootstrap': True}"
            ]
          },
          "metadata": {},
          "execution_count": 34
        }
      ]
    },
    {
      "cell_type": "code",
      "source": [
        "best_rf = random_search.best_estimator_"
      ],
      "metadata": {
        "id": "rROJU1CizCAK"
      },
      "execution_count": null,
      "outputs": []
    },
    {
      "cell_type": "code",
      "source": [
        "y_pred_rf = best_rf.predict(X_validation)"
      ],
      "metadata": {
        "id": "xaB8dwJwzB9h"
      },
      "execution_count": null,
      "outputs": []
    },
    {
      "cell_type": "markdown",
      "source": [
        "# Evaluation"
      ],
      "metadata": {
        "id": "jhAmW4M00cdt"
      }
    },
    {
      "cell_type": "code",
      "source": [
        "from sklearn.metrics import mean_absolute_error, mean_squared_error"
      ],
      "metadata": {
        "id": "38D4h3OY3KJd"
      },
      "execution_count": null,
      "outputs": []
    },
    {
      "cell_type": "code",
      "source": [
        "mae_rf = mean_absolute_error(y_validation, y_pred_rf)\n",
        "rmse_rf = np.sqrt(mean_squared_error(y_validation, y_pred_rf))"
      ],
      "metadata": {
        "id": "ryCTEc6PzB7C"
      },
      "execution_count": null,
      "outputs": []
    },
    {
      "cell_type": "code",
      "source": [
        "mae_rf # 1.450426093632012"
      ],
      "metadata": {
        "id": "nq5XdP1szB0K",
        "colab": {
          "base_uri": "https://localhost:8080/"
        },
        "outputId": "af7f1802-a1e8-4663-859f-6edf89f2c150"
      },
      "execution_count": null,
      "outputs": [
        {
          "output_type": "execute_result",
          "data": {
            "text/plain": [
              "1.450426093632012"
            ]
          },
          "metadata": {},
          "execution_count": 39
        }
      ]
    },
    {
      "cell_type": "code",
      "source": [
        "rmse_rf # 2.7080643529131674"
      ],
      "metadata": {
        "id": "PYN7eCodzI9j",
        "colab": {
          "base_uri": "https://localhost:8080/"
        },
        "outputId": "e24db7f8-ec1f-459e-8e55-57c0dc1aa383"
      },
      "execution_count": null,
      "outputs": [
        {
          "output_type": "execute_result",
          "data": {
            "text/plain": [
              "2.7080643529131674"
            ]
          },
          "metadata": {},
          "execution_count": 40
        }
      ]
    },
    {
      "cell_type": "code",
      "source": [
        "comparison_df_rf = pd.DataFrame({\"Actual\": y_validation, \"Predicted rf\": y_pred_rf})"
      ],
      "metadata": {
        "id": "1zVneTiKzQVw"
      },
      "execution_count": null,
      "outputs": []
    },
    {
      "cell_type": "code",
      "source": [
        "comparison_df_rf.to_excel(\"ML_määrien_vertailu_random_forest.xlsx\", index=False)"
      ],
      "metadata": {
        "id": "2pabjieUzQSQ"
      },
      "execution_count": null,
      "outputs": []
    },
    {
      "cell_type": "markdown",
      "source": [
        "# Final Hold Out Test Performance"
      ],
      "metadata": {
        "id": "nAaYx74fzheq"
      }
    },
    {
      "cell_type": "code",
      "source": [
        "rf_model = RandomForestRegressor(\n",
        "    n_estimators=1000,\n",
        "    min_samples_split=15,\n",
        "    min_samples_leaf=1,\n",
        "    max_features=1.0,\n",
        "    max_depth=None,\n",
        "    bootstrap=True,\n",
        "    random_state=42)"
      ],
      "metadata": {
        "id": "4dgrMdpWmtRx"
      },
      "execution_count": null,
      "outputs": []
    },
    {
      "cell_type": "code",
      "execution_count": null,
      "metadata": {
        "id": "2l4EU9AJn1Yq",
        "colab": {
          "base_uri": "https://localhost:8080/",
          "height": 75
        },
        "outputId": "05010078-8216-44ac-faf7-5e9fe5693ed4"
      },
      "outputs": [
        {
          "output_type": "execute_result",
          "data": {
            "text/plain": [
              "RandomForestRegressor(min_samples_split=15, n_estimators=1000, random_state=42)"
            ],
            "text/html": [
              "<style>#sk-container-id-2 {color: black;background-color: white;}#sk-container-id-2 pre{padding: 0;}#sk-container-id-2 div.sk-toggleable {background-color: white;}#sk-container-id-2 label.sk-toggleable__label {cursor: pointer;display: block;width: 100%;margin-bottom: 0;padding: 0.3em;box-sizing: border-box;text-align: center;}#sk-container-id-2 label.sk-toggleable__label-arrow:before {content: \"▸\";float: left;margin-right: 0.25em;color: #696969;}#sk-container-id-2 label.sk-toggleable__label-arrow:hover:before {color: black;}#sk-container-id-2 div.sk-estimator:hover label.sk-toggleable__label-arrow:before {color: black;}#sk-container-id-2 div.sk-toggleable__content {max-height: 0;max-width: 0;overflow: hidden;text-align: left;background-color: #f0f8ff;}#sk-container-id-2 div.sk-toggleable__content pre {margin: 0.2em;color: black;border-radius: 0.25em;background-color: #f0f8ff;}#sk-container-id-2 input.sk-toggleable__control:checked~div.sk-toggleable__content {max-height: 200px;max-width: 100%;overflow: auto;}#sk-container-id-2 input.sk-toggleable__control:checked~label.sk-toggleable__label-arrow:before {content: \"▾\";}#sk-container-id-2 div.sk-estimator input.sk-toggleable__control:checked~label.sk-toggleable__label {background-color: #d4ebff;}#sk-container-id-2 div.sk-label input.sk-toggleable__control:checked~label.sk-toggleable__label {background-color: #d4ebff;}#sk-container-id-2 input.sk-hidden--visually {border: 0;clip: rect(1px 1px 1px 1px);clip: rect(1px, 1px, 1px, 1px);height: 1px;margin: -1px;overflow: hidden;padding: 0;position: absolute;width: 1px;}#sk-container-id-2 div.sk-estimator {font-family: monospace;background-color: #f0f8ff;border: 1px dotted black;border-radius: 0.25em;box-sizing: border-box;margin-bottom: 0.5em;}#sk-container-id-2 div.sk-estimator:hover {background-color: #d4ebff;}#sk-container-id-2 div.sk-parallel-item::after {content: \"\";width: 100%;border-bottom: 1px solid gray;flex-grow: 1;}#sk-container-id-2 div.sk-label:hover label.sk-toggleable__label {background-color: #d4ebff;}#sk-container-id-2 div.sk-serial::before {content: \"\";position: absolute;border-left: 1px solid gray;box-sizing: border-box;top: 0;bottom: 0;left: 50%;z-index: 0;}#sk-container-id-2 div.sk-serial {display: flex;flex-direction: column;align-items: center;background-color: white;padding-right: 0.2em;padding-left: 0.2em;position: relative;}#sk-container-id-2 div.sk-item {position: relative;z-index: 1;}#sk-container-id-2 div.sk-parallel {display: flex;align-items: stretch;justify-content: center;background-color: white;position: relative;}#sk-container-id-2 div.sk-item::before, #sk-container-id-2 div.sk-parallel-item::before {content: \"\";position: absolute;border-left: 1px solid gray;box-sizing: border-box;top: 0;bottom: 0;left: 50%;z-index: -1;}#sk-container-id-2 div.sk-parallel-item {display: flex;flex-direction: column;z-index: 1;position: relative;background-color: white;}#sk-container-id-2 div.sk-parallel-item:first-child::after {align-self: flex-end;width: 50%;}#sk-container-id-2 div.sk-parallel-item:last-child::after {align-self: flex-start;width: 50%;}#sk-container-id-2 div.sk-parallel-item:only-child::after {width: 0;}#sk-container-id-2 div.sk-dashed-wrapped {border: 1px dashed gray;margin: 0 0.4em 0.5em 0.4em;box-sizing: border-box;padding-bottom: 0.4em;background-color: white;}#sk-container-id-2 div.sk-label label {font-family: monospace;font-weight: bold;display: inline-block;line-height: 1.2em;}#sk-container-id-2 div.sk-label-container {text-align: center;}#sk-container-id-2 div.sk-container {/* jupyter's `normalize.less` sets `[hidden] { display: none; }` but bootstrap.min.css set `[hidden] { display: none !important; }` so we also need the `!important` here to be able to override the default hidden behavior on the sphinx rendered scikit-learn.org. See: https://github.com/scikit-learn/scikit-learn/issues/21755 */display: inline-block !important;position: relative;}#sk-container-id-2 div.sk-text-repr-fallback {display: none;}</style><div id=\"sk-container-id-2\" class=\"sk-top-container\"><div class=\"sk-text-repr-fallback\"><pre>RandomForestRegressor(min_samples_split=15, n_estimators=1000, random_state=42)</pre><b>In a Jupyter environment, please rerun this cell to show the HTML representation or trust the notebook. <br />On GitHub, the HTML representation is unable to render, please try loading this page with nbviewer.org.</b></div><div class=\"sk-container\" hidden><div class=\"sk-item\"><div class=\"sk-estimator sk-toggleable\"><input class=\"sk-toggleable__control sk-hidden--visually\" id=\"sk-estimator-id-4\" type=\"checkbox\" checked><label for=\"sk-estimator-id-4\" class=\"sk-toggleable__label sk-toggleable__label-arrow\">RandomForestRegressor</label><div class=\"sk-toggleable__content\"><pre>RandomForestRegressor(min_samples_split=15, n_estimators=1000, random_state=42)</pre></div></div></div></div></div>"
            ]
          },
          "metadata": {},
          "execution_count": 54
        }
      ],
      "source": [
        "rf_model.fit(X_train, y_train)"
      ]
    },
    {
      "cell_type": "code",
      "execution_count": null,
      "metadata": {
        "id": "wKse4IDuotna"
      },
      "outputs": [],
      "source": [
        "test_predictions = rf_model.predict(X_holdout_test)"
      ]
    },
    {
      "cell_type": "code",
      "execution_count": null,
      "metadata": {
        "id": "sz71lw4Hotp-",
        "colab": {
          "base_uri": "https://localhost:8080/"
        },
        "outputId": "816dc9dc-94b9-4fa2-d27c-e89d6e765c3b"
      },
      "outputs": [
        {
          "output_type": "execute_result",
          "data": {
            "text/plain": [
              "1.4536332045148295"
            ]
          },
          "metadata": {},
          "execution_count": 56
        }
      ],
      "source": [
        "mean_absolute_error(y_holdout_test, test_predictions)"
      ]
    },
    {
      "cell_type": "code",
      "source": [
        "np.sqrt(mean_squared_error(y_holdout_test, test_predictions))"
      ],
      "metadata": {
        "id": "cADam7BP0CrE",
        "colab": {
          "base_uri": "https://localhost:8080/"
        },
        "outputId": "5abfa8ac-20d2-421a-fbdc-ff28846f6b16"
      },
      "execution_count": null,
      "outputs": [
        {
          "output_type": "execute_result",
          "data": {
            "text/plain": [
              "2.7356195827466663"
            ]
          },
          "metadata": {},
          "execution_count": 57
        }
      ]
    },
    {
      "cell_type": "code",
      "source": [
        "# 1.4536332045148295 , 2.7356195827466663"
      ],
      "metadata": {
        "id": "Rbvv15hbe54X"
      },
      "execution_count": null,
      "outputs": []
    },
    {
      "cell_type": "code",
      "source": [
        "comparison_df_rf_final = pd.DataFrame({\"Actual\": y_validation, \"Predicted rf\": y_pred_rf})"
      ],
      "metadata": {
        "id": "tx-2ymMoZACZ"
      },
      "execution_count": null,
      "outputs": []
    },
    {
      "cell_type": "code",
      "source": [
        "comparison_df_rf_final.to_excel(\"ML_määrien_vertailu_random_forest_final.xlsx\", index=False)"
      ],
      "metadata": {
        "id": "zbDmhxnmZBW0"
      },
      "execution_count": null,
      "outputs": []
    },
    {
      "cell_type": "markdown",
      "source": [
        "# Full training"
      ],
      "metadata": {
        "id": "Q223E1uH1Nmw"
      }
    },
    {
      "cell_type": "code",
      "source": [
        "final_model = RandomForestRegressor(\n",
        "    n_estimators=1000,\n",
        "    min_samples_split=15,\n",
        "    min_samples_leaf=1,\n",
        "    max_features=1.0,\n",
        "    max_depth=None,\n",
        "    bootstrap=True,\n",
        "    random_state=42) # using best parameters founded in randomsearch"
      ],
      "metadata": {
        "id": "dbJc30R11QSe"
      },
      "execution_count": null,
      "outputs": []
    },
    {
      "cell_type": "code",
      "source": [
        "final_model.fit(X, y)"
      ],
      "metadata": {
        "id": "h6m7MjDi1bdU"
      },
      "execution_count": null,
      "outputs": []
    },
    {
      "cell_type": "markdown",
      "source": [
        "# Saving Model"
      ],
      "metadata": {
        "id": "0YtsLiwPQo8i"
      }
    },
    {
      "cell_type": "code",
      "source": [
        "# import joblib"
      ],
      "metadata": {
        "id": "DfNcMTfEQnht"
      },
      "execution_count": null,
      "outputs": []
    },
    {
      "cell_type": "code",
      "source": [
        "# joblib.dump(final_model, \"final_model.pkl\")"
      ],
      "metadata": {
        "id": "5nAyX0a5Qyum"
      },
      "execution_count": null,
      "outputs": []
    },
    {
      "cell_type": "code",
      "source": [
        "# X.columns"
      ],
      "metadata": {
        "id": "qSV7Q-uQQne5"
      },
      "execution_count": null,
      "outputs": []
    },
    {
      "cell_type": "code",
      "source": [
        "# list(X.columns)"
      ],
      "metadata": {
        "id": "okDitUUlQ1jm"
      },
      "execution_count": null,
      "outputs": []
    },
    {
      "cell_type": "code",
      "source": [
        "# joblib.dump(list(X.columns), \"column_names.pkl\")"
      ],
      "metadata": {
        "id": "FXE4iT5oQnbp"
      },
      "execution_count": null,
      "outputs": []
    }
  ],
  "metadata": {
    "colab": {
      "provenance": [],
      "machine_shape": "hm",
      "include_colab_link": true
    },
    "kernelspec": {
      "display_name": "Python 3",
      "name": "python3"
    },
    "language_info": {
      "name": "python"
    }
  },
  "nbformat": 4,
  "nbformat_minor": 0
}